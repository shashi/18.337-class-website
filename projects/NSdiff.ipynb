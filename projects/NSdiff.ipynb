{
 "cells": [
  {
   "cell_type": "markdown",
   "metadata": {},
   "source": [
    "# 18.337 Project: Automatic differentiation methods for nonsmooth functions\n",
    "Suzane Cavalcanti and Caroline Nielsen"
   ]
  },
  {
   "cell_type": "markdown",
   "metadata": {},
   "source": [
    "# Project Overview\n",
    "\n",
    "The fastest and most efficient equation-solving and optimization methods rely on derivative information (e.g. the Jacobian of the equation system, the gradient and Hessian of the objective function) to predict local behavior of smooth functions. Given that analytical derivative formulas are not available in general, these elements have been traditionally approximated with finite differences in many application fields and commercial software. However, this often computationally expensive approach only yields approximate results and is very sensitive to the magnitude of the perturbations. \n",
    "\n",
    "On the other hand, automatic differentiation (AD) methods compute exact derivatives or directional derivatives of a function, within machine precision, without needing to perform symbolic differentiation. They can be used to calculate derivatives of existing programs by applying calculus rules to numerical derivatives. In practice, AD algorithms are often implemented using operator overloading, where derivative formulas are defined for elementary operations on value-derivative objects which are used to propagate derivatives in composite functions according to the chain rule.\n",
    "\n",
    "Several AD algorithms have been implemented in Julia and are available in packages such as AutoGrad and JuliaDiff. These packages encompass both first and second order derivatives, but they can only correctly provide these objects for smooth functions. The goal of this project is to address this limitation by implementing AD methods in Julia that provide useful generalized derivative elements for nonsmooth functions. First-order generalized derivatives for a broad class of nonsmooth functions can be reliably computed with the vector forward AD algorithm of Khan and Barton and the associated LD-derivative object (Khan and Barton 2015). However, Hessian-like elements for non-differentiable scalar-valued functions are not well-defined or even considered in the literature. By extending concepts of Khan and Barton's work, we have developed a novel and promising method to compute exact limiting Hessians for abs-factorable functions (such as min, max, abs, mid and compositions thereof) using a so-defined seconder-order LD-derivative, which will be further studied for future publication.\n",
    "\n",
    "The following code consists of two parts: the implementation of the first-order forward AD method of Khan and Barton (Khan and Barton 2015), and our own novel second-order forward AD method for nonsmooth functions. For first order derivatives, we have defined a LDder structure which contains a function value and an LD-derivative and we've written a library of base functions that operate on LDder types according to smooth and nonsmooth calculus derivative rulues. The LDder2 type was constructed similarly to handle second derivatives and contains fields for the function value, LD-derivative, and 2nd-order LD-derivative object. The LD-derivative objects can then be found for any arbitrary function using a series of macros."
   ]
  },
  {
   "cell_type": "markdown",
   "metadata": {},
   "source": [
    "# The LDder type"
   ]
  },
  {
   "cell_type": "code",
   "execution_count": null,
   "metadata": {},
   "outputs": [],
   "source": [
    "using Pkg\n",
    "Pkg.add(\"ForwardDiff\")\n",
    "using LinearAlgebra\n",
    "using AutoGrad\n",
    "using ForwardDiff"
   ]
  },
  {
   "cell_type": "code",
   "execution_count": null,
   "metadata": {},
   "outputs": [],
   "source": [
    "struct LDder{v,w}\n",
    "    val::v\n",
    "    der::Array{w,1}\n",
    "end"
   ]
  },
  {
   "cell_type": "code",
   "execution_count": null,
   "metadata": {},
   "outputs": [],
   "source": [
    "# Identifies independent variable for differentiation\n",
    "struct var{v}\n",
    "    val::v\n",
    "end"
   ]
  },
  {
   "cell_type": "code",
   "execution_count": null,
   "metadata": {},
   "outputs": [],
   "source": [
    "# output the number of directions in the LDder\n",
    "ndir(A::LDder) = length(A.der)\n",
    "ndir(A::Array) = length(A[1].der)"
   ]
  },
  {
   "cell_type": "code",
   "execution_count": null,
   "metadata": {},
   "outputs": [],
   "source": [
    "# Converts var inputs in an expression to LDderivatives\n",
    "# If no direction matrix is specified, the identity is used\n",
    "function derinit(ex::Expr,M)\n",
    "    args = ex.args\n",
    "    \n",
    "    for i in 2:length(args)\n",
    "        x = args[i]\n",
    "        \n",
    "        if isa(x, Expr)\n",
    "            args[i] = derinit(x,M)\n",
    "        else\n",
    "            args[i] = @eval derinit($x,$M)\n",
    "        end\n",
    "    end\n",
    "    eval(ex)\n",
    "end\n",
    "function derinit(x::var, M)\n",
    "    val = x.val \n",
    "    lx = length(val)\n",
    "    X = Array{LDder}(undef,lx)\n",
    "    \n",
    "    if M == 0\n",
    "        M = diagm(0 => ones(lx))\n",
    "    end\n",
    "    \n",
    "    for i = 1:lx\n",
    "        X[i] = LDder(val[i],M[i,:])\n",
    "    end\n",
    "    X\n",
    "end\n",
    "derinit(p,M) = p"
   ]
  },
  {
   "cell_type": "code",
   "execution_count": null,
   "metadata": {},
   "outputs": [],
   "source": [
    "# Converts array of LDder structures to separate arrays of values and derivatives\n",
    "function LD2mat(X::Array)\n",
    "    lx = length(X)\n",
    "    nd = ndir(X)\n",
    "    val = zeros(lx)\n",
    "    der = zeros(lx,nd)\n",
    "    for i = 1:lx\n",
    "        val[i] = X[i].val\n",
    "        der[i,:] = X[i].der\n",
    "    end\n",
    "    val, der\n",
    "end\n",
    "function LD2mat(x::LDder)\n",
    "    val = x.val;\n",
    "    der = x.der;\n",
    "    val, der\n",
    "end"
   ]
  },
  {
   "cell_type": "code",
   "execution_count": null,
   "metadata": {},
   "outputs": [],
   "source": [
    "# Calculates Jacobian from LDder structures\n",
    "function jacobian(X)\n",
    "    v,d = LD2mat(X)\n",
    "    d\n",
    "end\n",
    "function jacobian(X::LDder,M)\n",
    "    v,d = LD2mat(X)\n",
    "    J = d'*inv(M)\n",
    "end\n",
    "function jacobian(X::Array,M)\n",
    "    v,d = LD2mat(X)\n",
    "    J = d*inv(M)\n",
    "end"
   ]
  },
  {
   "cell_type": "code",
   "execution_count": null,
   "metadata": {},
   "outputs": [],
   "source": [
    "# Macro for calculating LDder for existing functions\n",
    "macro nsdiff(ex, M = 0)\n",
    "    derinit(ex,M)\n",
    "end"
   ]
  },
  {
   "cell_type": "code",
   "execution_count": null,
   "metadata": {},
   "outputs": [],
   "source": [
    "# Macros for isolating values, LD-derivatives, and Jacobians from LD-derivative objects\n",
    "macro val(ex)\n",
    "    v,d = @eval LD2mat($ex)\n",
    "    v\n",
    "end\n",
    "macro der(ex)\n",
    "    v,d = @eval LD2mat($ex)\n",
    "    d\n",
    "end\n",
    "macro jacobian(ex)\n",
    "    @eval jacobian($ex)\n",
    "end\n",
    "macro jacobian(ex,M)\n",
    "    @eval jacobian($ex,M)\n",
    "end"
   ]
  },
  {
   "cell_type": "markdown",
   "metadata": {},
   "source": [
    "# Function library for first order derivatives"
   ]
  },
  {
   "cell_type": "markdown",
   "metadata": {},
   "source": [
    "Uniary and binary minus:"
   ]
  },
  {
   "cell_type": "code",
   "execution_count": null,
   "metadata": {},
   "outputs": [],
   "source": [
    "Base.:-(A::LDder) = LDder(-A.val,-A.der)\n",
    "Base.:-(A::LDder,B::LDder) = LDder(A.val-B.val,A.der-B.der)\n",
    "Base.:-(A::LDder,b) = LDder(A.val-b,A.der)\n",
    "Base.:-(b,A::LDder) = LDder(b-A.val,-A.der)"
   ]
  },
  {
   "cell_type": "markdown",
   "metadata": {},
   "source": [
    "Addition:"
   ]
  },
  {
   "cell_type": "code",
   "execution_count": null,
   "metadata": {},
   "outputs": [],
   "source": [
    "Base.:+(A::LDder,B::LDder) = LDder(A.val+B.val,A.der+B.der)\n",
    "Base.:+(A::LDder,b) = LDder(A.val+b,A.der)\n",
    "Base.:+(b,A::LDder) = LDder(A.val+b,A.der)"
   ]
  },
  {
   "cell_type": "markdown",
   "metadata": {},
   "source": [
    "Multiplication:"
   ]
  },
  {
   "cell_type": "code",
   "execution_count": null,
   "metadata": {},
   "outputs": [],
   "source": [
    "Base.:*(A::LDder,B::LDder) = LDder(A.val*B.val,A.der*B.val+B.der*A.val)\n",
    "Base.:*(A::LDder,b) = LDder(b*A.val,b*A.der)\n",
    "Base.:*(b,A::LDder) = LDder(b*A.val,b*A.der)"
   ]
  },
  {
   "cell_type": "markdown",
   "metadata": {},
   "source": [
    "Inverse and division:"
   ]
  },
  {
   "cell_type": "code",
   "execution_count": null,
   "metadata": {},
   "outputs": [],
   "source": [
    "Base.inv(A::LDder) = LDder(1/A.val, -1/(A.val^2)*A.der)\n",
    "Base.:/(A::LDder,B::LDder) = LDder(A.val/B.val, (B.val*A.der-A.val*B.der)/(B.val^2))\n",
    "Base.:/(A::LDder,b) = A*inv(b)\n",
    "Base.:/(b,A::LDder) = LDder(b/A.val, -b/(A.val^2)*A.der)\n",
    "Base.:\\(A::LDder,B::LDder) = LDder(B.val/A.val, (A.val*B.der-B.val*A.der)/(A.val^2))\n",
    "Base.:\\(A::LDder,b) = LDder(b/A.val, -b/(A.val^2)*A.der)\n",
    "Base.:\\(b,A::LDder) = A*inv(b)"
   ]
  },
  {
   "cell_type": "markdown",
   "metadata": {},
   "source": [
    "Powers:"
   ]
  },
  {
   "cell_type": "code",
   "execution_count": null,
   "metadata": {},
   "outputs": [],
   "source": [
    "Base.:^(A::LDder,b) = LDder(A.val^b,b*A.val^(b-1)*A.der)\n",
    "Base.:^(a, B::LDder) = LDder(a^B.val,log(a)*a^B.val*B.der)"
   ]
  },
  {
   "cell_type": "markdown",
   "metadata": {},
   "source": [
    "Trigonometry:"
   ]
  },
  {
   "cell_type": "code",
   "execution_count": null,
   "metadata": {},
   "outputs": [],
   "source": [
    "Base.sin(A::LDder) = LDder(sin(A.val),cos(A.val)*A.der)\n",
    "Base.cos(A::LDder) = LDder(cos(A.val),-sin(A.val)*A.der)\n",
    "Base.tan(A::LDder) = LDder(tan(A.val),A.der/(cos(A.val)^2))"
   ]
  },
  {
   "cell_type": "markdown",
   "metadata": {},
   "source": [
    "The following functions define LD-derivative rules for the elementary nonsmooth functions abs, min, and max as developed by Khan and Barton. The helper function fsign outputs the sign of the first nonzero element in a vector, and lmin and lmax give the lexicographic minimum and maximum of two vectors."
   ]
  },
  {
   "cell_type": "code",
   "execution_count": null,
   "metadata": {},
   "outputs": [],
   "source": [
    "function fsign(x)\n",
    "    i = 1;\n",
    "    lx = length(x)\n",
    "    while (x[i] == 0) & (i<lx)\n",
    "        i += 1\n",
    "    end\n",
    "    sign(x[i])\n",
    "end\n",
    "lmin(x,y) = fsign(x-y) <= 0 ? x : y\n",
    "lmax(x,y) = fsign(x-y) >= 0 ? x : y\n",
    "function lmid(x,y,z)\n",
    "    xy = fsign(x-y)\n",
    "    yz = fsign(y-z)\n",
    "    zx = fsign(z-x)\n",
    "    if (xy>=0 && zx>=0) | (xy<=0 && zx<=0)\n",
    "        f = x\n",
    "    elseif (xy>=0 && yz>=0) | (xy<=0 && yz<=0)\n",
    "        f = y\n",
    "    else\n",
    "        f = z\n",
    "    end\n",
    "    f\n",
    "end\n",
    "double(X::LDder) = [X.val,X.der...]\n",
    "Base.abs(A::LDder) = LDder(abs(A.val),fsign([A.val, A.der...])*A.der)\n",
    "function Base.min(A::LDder, B::LDder)\n",
    "    z = lmin([A.val, A.der...],[B.val, B.der...])\n",
    "    LDder(min(A.val,B.val),z[2:end])\n",
    "end \n",
    "function Base.min(A::LDder, b)\n",
    "    z = lmin([A.val, A.der...],[b, zeros(ndir(A))...])\n",
    "    LDder(min(A.val,b),z[2:end])\n",
    "end \n",
    "Base.min(b, A::LDder) = min(A,b)\n",
    "function Base.max(A::LDder, B::LDder)\n",
    "    z = lmax([A.val, A.der...],[B.val, B.der...])\n",
    "    LDder(max(A.val,B.val),z[2:end])\n",
    "end \n",
    "function Base.max(A::LDder, b)\n",
    "    z = lmax([A.val, A.der...],[b, zeros(ndir(A))...])\n",
    "    LDder(max(A.val,b),z[2:end])\n",
    "end \n",
    "Base.max(b, A::LDder) = max(A,b)\n",
    "function mid(x,y,z)\n",
    "    if (x>=y && x<=z) | (x<=y && x>=z)\n",
    "        f = x\n",
    "    elseif (y>=x && y<=z) | (y<=x && y>=z)\n",
    "        f = y\n",
    "    else\n",
    "        f = z\n",
    "    end\n",
    "end\n",
    "function mid(X::LDder,y,z)\n",
    "    nd = ndir(X)\n",
    "    d = zeros(nd)\n",
    "    Y = LDder(y,d)\n",
    "    Z = LDder(z,d)\n",
    "    mid(X,Y,Z)\n",
    "end\n",
    "mid(x,Y::LDder,z) = mid(Y,x,z)\n",
    "mid(x, y, Z::LDder) = mid(Z,x,y)\n",
    "function mid(X::LDder,Y::LDder,z)\n",
    "    nd = ndir(X)\n",
    "    d = zeros(nd)\n",
    "    Z = LDder(z,d)\n",
    "    mid(X,Y,Z)\n",
    "end\n",
    "mid(X::LDder, y, Z::LDder) = mid(X,Z,y)\n",
    "mid(x, Y::LDder, Z::LDder) = mid(Y,Z,x)\n",
    "function mid(X::LDder, Y::LDder, Z::LDder)\n",
    "    x = double(X)\n",
    "    y = double(Y)\n",
    "    z = double(Z)\n",
    "    f = lmid(x,y,z)\n",
    "    LDder(mid(X.val,Y.val,Z.val),f[2:end])\n",
    "end"
   ]
  },
  {
   "cell_type": "markdown",
   "metadata": {},
   "source": [
    "# Examples"
   ]
  },
  {
   "cell_type": "markdown",
   "metadata": {},
   "source": [
    "# Smooth functions:"
   ]
  },
  {
   "cell_type": "code",
   "execution_count": null,
   "metadata": {},
   "outputs": [],
   "source": [
    "function hserve(x)\n",
    "    a = x[1]\n",
    "    v = x[2]\n",
    "    h = x[3]\n",
    "    f = v^2*cos(a)^2/32*(tan(a)+(tan(a)^2+64*h/(v^2*cos(a)^2))^0.5)\n",
    "end"
   ]
  },
  {
   "cell_type": "markdown",
   "metadata": {},
   "source": [
    "Without specifying the directions matrix, the identity is used:"
   ]
  },
  {
   "cell_type": "code",
   "execution_count": null,
   "metadata": {},
   "outputs": [],
   "source": [
    "y = var([0.35,44,9])\n",
    "@nsdiff a = hserve(y)\n",
    "@jacobian a"
   ]
  },
  {
   "cell_type": "markdown",
   "metadata": {},
   "source": [
    "But other directions matrices can be specified, giving the same results for smooth functions:"
   ]
  },
  {
   "cell_type": "code",
   "execution_count": null,
   "metadata": {},
   "outputs": [],
   "source": [
    "M = [-1 0 0; 0 -1 0; 0 0 -1]\n",
    "@nsdiff a = hserve(y) M\n",
    "@jacobian a M"
   ]
  },
  {
   "cell_type": "markdown",
   "metadata": {},
   "source": [
    "Smooth higher-order derivatives:"
   ]
  },
  {
   "cell_type": "code",
   "execution_count": null,
   "metadata": {},
   "outputs": [],
   "source": [
    "sScalar(x) = x[1]*x[1]+2x[1]/x[2]\n",
    "x = var([1;1])\n",
    "f = @nsdiff2 sScalar(x)\n",
    "@hessian f"
   ]
  },
  {
   "cell_type": "markdown",
   "metadata": {},
   "source": [
    "# Nonsmooth functions \n",
    "(at nonsmooth point with different direction matrices):"
   ]
  },
  {
   "attachments": {
    "Bdiff.JPG": {
     "image/jpeg": "[encoded data removed]"
    },
    "Plots.JPG": {
     "image/jpeg": "[encoded data removed]"
    }
   },
   "cell_type": "markdown",
   "metadata": {},
   "source": [
    "![Plots.JPG](attachment:Plots.JPG)\n",
    "![Bdiff.JPG](attachment:Bdiff.JPG)"
   ]
  },
  {
   "cell_type": "code",
   "execution_count": null,
   "metadata": {},
   "outputs": [],
   "source": [
    "nsVec1(x) = [abs(x[1]-x[2]);max(0,min(x[1],x[2]))]"
   ]
  },
  {
   "cell_type": "markdown",
   "metadata": {},
   "source": [
    "ForwardDiff fails to give a useful element of the B-subdifferential or Clarke Jacobian:"
   ]
  },
  {
   "cell_type": "code",
   "execution_count": null,
   "metadata": {},
   "outputs": [],
   "source": [
    "x = [0,0]\n",
    "ForwardDiff.jacobian(nsVec1,x)"
   ]
  },
  {
   "cell_type": "markdown",
   "metadata": {},
   "source": [
    "But nsdiff returns an element of the B-subdifferential:"
   ]
  },
  {
   "cell_type": "code",
   "execution_count": null,
   "metadata": {},
   "outputs": [],
   "source": [
    "y = var([0,0])"
   ]
  },
  {
   "cell_type": "code",
   "execution_count": null,
   "metadata": {},
   "outputs": [],
   "source": [
    "a = @nsdiff nsVec1(y)"
   ]
  },
  {
   "cell_type": "code",
   "execution_count": null,
   "metadata": {},
   "outputs": [],
   "source": [
    "@jacobian a"
   ]
  },
  {
   "cell_type": "markdown",
   "metadata": {},
   "source": [
    "Changing the direction matrix changes the element of the B-subdifferential that is returned:"
   ]
  },
  {
   "cell_type": "code",
   "execution_count": null,
   "metadata": {
    "scrolled": true
   },
   "outputs": [],
   "source": [
    "M = [-1 0; 0 -1]\n",
    "b = @nsdiff nsVec1(y) M\n",
    "@jacobian b M"
   ]
  },
  {
   "cell_type": "code",
   "execution_count": null,
   "metadata": {},
   "outputs": [],
   "source": [
    "function nsVec2(x)\n",
    "    x1 = x[1]\n",
    "    x2 = x[2]\n",
    "    f1 = mid(x1+1,0,x1-1)\n",
    "    f2 = mid(x2+1,x2-x1,x2-1)\n",
    "    [f1,f2]\n",
    "end"
   ]
  },
  {
   "cell_type": "code",
   "execution_count": null,
   "metadata": {},
   "outputs": [],
   "source": [
    "M = [0 -1; -1 0]\n",
    "x = var([-1,-1])\n",
    "@nsdiff c = nsVec2(x)\n",
    "@jacobian c"
   ]
  }
 ],
 "metadata": {
  "kernelspec": {
   "display_name": "Julia 1.0.0",
   "language": "julia",
   "name": "julia-1.0"
  },
  "language_info": {
   "file_extension": ".jl",
   "mimetype": "application/julia",
   "name": "julia",
   "version": "1.0.0"
  }
 },
 "nbformat": 4,
 "nbformat_minor": 2
}
