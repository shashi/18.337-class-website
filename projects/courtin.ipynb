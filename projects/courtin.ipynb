{
 "cells": [
  {
   "cell_type": "code",
   "execution_count": 1,
   "metadata": {},
   "outputs": [
    {
     "data": {
      "text/plain": [
       "solve_MIGP (generic function with 2 methods)"
      ]
     },
     "execution_count": 1,
     "metadata": {},
     "output_type": "execute_result"
    }
   ],
   "source": [
    "using LightGraphs\n",
    "using TikzGraphs, TikzPictures\n",
    "using PyCall\n",
    "include(\"MIGP.jl\")"
   ]
  },
  {
   "cell_type": "markdown",
   "metadata": {},
   "source": [
    "# Visualize the branch and bound algorithm on a simple optimization problem\n",
    "\n",
    ">$min$ $Z$\n",
    "\n",
    ">$s.t.$ $Z \\geq x_1 + x_2$\n",
    ">>$6x_2 - 2x_3 \\geq 10$\n",
    "\n",
    ">>$4x_1 \\geq 3x_3$\n",
    "\n",
    ">>$2x_1 \\geq x_2$\n",
    "\n",
    ">>$x_i \\geq 0, integer$  where $i\\in$ {1,2,3}\n",
    "\n"
   ]
  },
  {
   "cell_type": "code",
   "execution_count": 2,
   "metadata": {},
   "outputs": [
    {
     "ename": "LoadError",
     "evalue": "syntax: extra token \"gpkit\" after end of expression",
     "output_type": "error",
     "traceback": [
      "syntax: extra token \"gpkit\" after end of expression",
      ""
     ]
    }
   ],
   "source": [
    "from gpkit import Model, parse_variables, Vectorize, SignomialsEnabled, Variable, SignomialEquality, units\n",
    "\n",
    "class Test1(Model):\n",
    "    \"\"\" Test equation\n",
    "\n",
    "    Variables\n",
    "    ---------\n",
    "    INT_x1                  [-]     x1\n",
    "    INT_x2                  [-]     x2\n",
    "    INT_x3                  [-]     x3\n",
    "    Z                   [-]     Z\n",
    "\n",
    "    \"\"\"\n",
    "    def setup(self):\n",
    "        exec parse_variables(Test1.__doc__)\n",
    "        ZERO = 1e-30\n",
    "        x1 = INT_x1\n",
    "        x2 = INT_x2\n",
    "        x3 = INT_x3\n",
    "        constraints = [Z >= x1+x2,\n",
    "            6*x2 >= 10+ 2*x3,\n",
    "            4*x1 >= 3*x3,\n",
    "            2*x1 >= x2,\n",
    "            x1 >= ZERO,\n",
    "            x2 >= ZERO,\n",
    "            x3 >= ZERO\n",
    "\n",
    "        ]\n",
    "\n",
    "        self.cost = Z\n",
    "\n",
    "        return constraints"
   ]
  },
  {
   "cell_type": "code",
   "execution_count": 3,
   "metadata": {},
   "outputs": [],
   "source": [
    "PyCall.pyversion\n",
    "@pyimport mico_tests as mt"
   ]
  },
  {
   "cell_type": "code",
   "execution_count": 4,
   "metadata": {},
   "outputs": [
    {
     "data": {
      "text/plain": [
       "{0, 0} undirected simple Int64 graph"
      ]
     },
     "execution_count": 4,
     "metadata": {},
     "output_type": "execute_result"
    }
   ],
   "source": [
    "G = Graph()"
   ]
  },
  {
   "cell_type": "code",
   "execution_count": 5,
   "metadata": {},
   "outputs": [],
   "source": [
    "mutable struct CostedNode\n",
    "    vars::Array{String}\n",
    "    vals::Array{Float64}\n",
    "    vars_expanded::Array{String}\n",
    "    best_vals::Array{Float64}\n",
    "    cost::Float64\n",
    "    level::Int16\n",
    "    ID::Int16\n",
    "    parentID::Int16\n",
    "    label::String\n",
    "\n",
    "end"
   ]
  },
  {
   "cell_type": "code",
   "execution_count": 6,
   "metadata": {},
   "outputs": [
    {
     "data": {
      "text/plain": [
       "addNode! (generic function with 1 method)"
      ]
     },
     "execution_count": 6,
     "metadata": {},
     "output_type": "execute_result"
    }
   ],
   "source": [
    "function addNode!(Node, G, Node_List)\n",
    "    add_vertex!(G)\n",
    "    push!(Node_List,Node)\n",
    "end"
   ]
  },
  {
   "cell_type": "markdown",
   "metadata": {},
   "source": [
    "## Solve Relaxed Problem"
   ]
  },
  {
   "cell_type": "code",
   "execution_count": 7,
   "metadata": {},
   "outputs": [
    {
     "name": "stdout",
     "output_type": "stream",
     "text": [
      "Using solver 'mosek'\n",
      "Solving for 4 variables.\n",
      "Number of Hessian non-zeros: 7\n",
      "* Solving exponential optimization problem on dual form. *\n",
      "* The following log information refers to the solution of the dual problem. *\n",
      "Problem\n",
      "  Name                   :                 \n",
      "  Objective sense        : max             \n",
      "  Type                   : GECO (general convex optimization problem)\n",
      "  Constraints            : 5               \n",
      "  Cones                  : 0               \n",
      "  Scalar variables       : 10              \n",
      "  Matrix variables       : 0               \n",
      "  Integer variables      : 0               \n",
      "\n",
      "Optimizer started.\n",
      "Presolve started.\n",
      "Linear dependency checker started.\n",
      "Linear dependency checker terminated.\n",
      "Eliminator started.\n",
      "Freed constraints in eliminator : 0\n",
      "Eliminator terminated.\n",
      "Eliminator - tries                  : 1                 time                   : 0.00            \n",
      "Lin. dep.  - tries                  : 1                 time                   : 0.00            \n",
      "Lin. dep.  - number                 : 0               \n",
      "Presolve terminated. Time: 0.00    \n",
      "Matrix reordering started.\n",
      "Local matrix reordering started.\n",
      "Local matrix reordering terminated.\n",
      "Matrix reordering terminated.\n",
      "Problem\n",
      "  Name                   :                 \n",
      "  Objective sense        : max             \n",
      "  Type                   : GECO (general convex optimization problem)\n",
      "  Constraints            : 5               \n",
      "  Cones                  : 0               \n",
      "  Scalar variables       : 10              \n",
      "  Matrix variables       : 0               \n",
      "  Integer variables      : 0               \n",
      "\n",
      "Optimizer  - threads                : 4               \n",
      "Optimizer  - solved problem         : the primal      \n",
      "Optimizer  - Constraints            : 3\n",
      "Optimizer  - Cones                  : 0\n",
      "Optimizer  - Scalar variables       : 7                 conic                  : 0               \n",
      "Optimizer  - Semi-definite variables: 0                 scalarized             : 0               \n",
      "Factor     - setup time             : 0.00              dense det. time        : 0.00            \n",
      "Factor     - ML order time          : 0.00              GP order time          : 0.00            \n",
      "Factor     - nonzeros before factor : 22                after factor           : 27              \n",
      "Factor     - dense dim.             : 0                 flops                  : 5.20e+01        \n",
      "ITE PFEAS    DFEAS    GFEAS    PRSTATUS   POBJ              DOBJ              MU       TIME  \n",
      "0   1.7e+00  1.2e+02  2.1e+02  0.00e+00   -2.057410035e+02  0.000000000e+00   1.0e+00  0.00  \n",
      "1   1.5e-01  1.0e+01  1.8e+01  -1.00e+00  -1.723410155e+02  2.366551184e+01   8.8e-02  0.00  \n",
      "2   2.6e-02  1.7e+00  3.1e+00  -8.19e-01  -2.471272075e+01  6.251800046e+01   1.5e-02  0.00  \n",
      "3   7.2e-03  4.6e-01  8.8e-01  1.39e+00   -1.598704296e+01  6.965627889e+00   4.3e-03  0.00  \n",
      "4   1.0e-03  7.3e-02  1.4e-01  9.87e-01   -7.959873841e-01  2.435784190e+00   7.8e-04  0.00  \n",
      "5   8.3e-05  5.3e-02  1.3e-02  9.84e-01   7.313874228e-01   1.022475284e+00   7.5e-05  0.00  \n",
      "6   2.8e-06  4.6e-02  1.2e-03  9.74e-01   8.976056091e-01   9.252794099e-01   9.8e-06  0.00  \n",
      "7   1.4e-07  2.3e-03  7.0e-05  1.01e+00   9.152537750e-01   9.167936709e-01   5.3e-07  0.00  \n",
      "8   5.3e-10  8.5e-06  4.7e-07  1.00e+00   9.162846690e-01   9.162953032e-01   2.9e-09  0.00  \n",
      "9   1.8e-12  2.9e-08  2.9e-09  1.00e+00   9.162906978e-01   9.162907654e-01   1.6e-11  0.00  \n",
      "Optimizer terminated. Time: 0.00    \n",
      "\n",
      "solsta = 1, prosta = 1\n",
      "\n",
      "Interior-point solution summary\n",
      "  Problem status  : PRIMAL_AND_DUAL_FEASIBLE\n",
      "  Solution status : OPTIMAL\n",
      "  Primal.  obj: 9.1629069779e-01    nrm: 1e+00    Viol.  con: 3e-11    var: 0e+00  \n",
      "  Dual.    obj: 9.1629076537e-01    nrm: 7e+01    Viol.  con: 0e+00    var: 8e-07  \n",
      "* End solution on dual form. *\n",
      "Transforming to primal solution.\n",
      "Solving took 0.011 seconds.\n",
      "result packing took 3.2% of solve time\n",
      "solution checking took 1.5e+02% of solve time\n"
     ]
    },
    {
     "data": {
      "image/svg+xml": [
       "<?xml version=\"1.0\" encoding=\"UTF-8\"?>\n",
       "<svg xmlns=\"http://www.w3.org/2000/svg\" xmlns:xlink=\"http://www.w3.org/1999/xlink\" width=\"19.561pt\" height=\"21.379pt\" viewBox=\"0 0 19.561 21.379\" version=\"1.1\">\n",
       "<defs>\n",
       "<g>\n",
       "<symbol overflow=\"visible\" id=\"glyph-1543859544656725-0-0\">\n",
       "<path style=\"stroke:none;\" d=\"\"/>\n",
       "</symbol>\n",
       "<symbol overflow=\"visible\" id=\"glyph-1543859544656725-0-1\">\n",
       "<path style=\"stroke:none;\" d=\"M 11.953125 0 L 8.140625 -6.734375 L 8.1875 -6.75 C 11.40625 -7.875 11.421875 -10.09375 11.421875 -10.5 C 11.421875 -12.453125 9.4375 -14.328125 6.46875 -14.328125 L 1.84375 -14.328125 L 1.84375 0 L 3.53125 0 L 3.53125 -6.546875 L 6.5625 -6.546875 L 10.21875 0 Z M 9.796875 -10.5 C 9.796875 -9.375 8.96875 -7.8125 6.234375 -7.8125 L 3.53125 -7.8125 L 3.53125 -13.171875 L 6.234375 -13.171875 C 8.859375 -13.171875 9.796875 -11.6875 9.796875 -10.5 Z M 9.796875 -10.5 \"/>\n",
       "</symbol>\n",
       "</g>\n",
       "<clipPath id=\"clip-1543859544656725-1\">\n",
       "  <path d=\"M 0 0 L 19.5625 0 L 19.5625 21.378906 L 0 21.378906 Z M 0 0 \"/>\n",
       "</clipPath>\n",
       "</defs>\n",
       "<g id=\"surface1\">\n",
       "<g clip-path=\"url(#clip-1543859544656725-1)\" clip-rule=\"nonzero\">\n",
       "<path style=\"fill-rule:nonzero;fill:rgb(89.99939%,89.99939%,100%);fill-opacity:1;stroke-width:0.3985;stroke-linecap:butt;stroke-linejoin:miter;stroke:rgb(0%,0%,0%);stroke-opacity:1;stroke-miterlimit:10;\" d=\"M 5.597906 10.489781 L -5.597406 10.489781 C -7.796625 10.489781 -9.581781 8.704625 -9.581781 6.505406 L -9.581781 -6.506312 C -9.581781 -8.705531 -7.796625 -10.490687 -5.597406 -10.490687 L 5.597906 -10.490687 C 7.797125 -10.490687 9.582281 -8.705531 9.582281 -6.506312 L 9.582281 6.505406 C 9.582281 8.704625 7.797125 10.489781 5.597906 10.489781 Z M 5.597906 10.489781 \" transform=\"matrix(1,0,0,-1,9.781,10.689)\"/>\n",
       "</g>\n",
       "<g style=\"fill:rgb(0%,0%,0%);fill-opacity:1;\">\n",
       "  <use xlink:href=\"#glyph-1543859544656725-0-1\" x=\"3.52\" y=\"17.859\"/>\n",
       "</g>\n",
       "</g>\n",
       "</svg>\n",
       "\n"
      ],
      "text/plain": [
       "TikzPicture(\"\\\\graph [layered layout, ] {\\n1/\\\"R\\\" [draw, rounded corners, fill=blue!10],\\n;\\n};\\n\", \"scale=2, font=\\\\huge\\\\sf\", \"\\\\usepackage{fontspec}\\n\\\\setmainfont{Latin Modern Math}\\n\\\\usetikzlibrary{graphs}\\n\\\\usetikzlibrary{graphdrawing}\\n\\n% from: https://tex.stackexchange.com/questions/453132/fresh-install-of-tl2018-no-tikz-graph-drawing-libraries-found\\n\\\\usepackage{luacode}\\n\\\\begin{luacode*}\\n\\tfunction pgf_lookup_and_require(name)\\n\\tlocal sep = package.config:sub(1,1)\\n\\tlocal function lookup(name)\\n\\tlocal sub = name:gsub('%.',sep)  \\n\\tif kpse.find_file(sub, 'lua') then\\n\\trequire(name)\\n\\telseif kpse.find_file(sub, 'clua') then\\n\\tcollectgarbage('stop') \\n\\trequire(name)\\n\\tcollectgarbage('restart')\\n\\telse\\n\\treturn false\\n\\tend\\n\\treturn true\\n\\tend\\n\\treturn\\n\\tlookup('pgf.gd.' .. name .. '.library') or\\n\\tlookup('pgf.gd.' .. name) or\\n\\tlookup(name .. '.library') or\\n\\tlookup(name) \\n\\tend\\n\\\\end{luacode*}\\n\\n\\\\usegdlibrary{layered}\", true)"
      ]
     },
     "execution_count": 7,
     "metadata": {},
     "output_type": "execute_result"
    }
   ],
   "source": [
    "Node_List = CostedNode[]\n",
    "var_names, values,cost  = mt.run_Test1(verbosity = 2)\n",
    "N0 = CostedNode(var_names, values,[],[], cost, 1, 1, 0, \"R\")\n",
    "addNode!(N0, G, Node_List)\n",
    "\n",
    "plot(G,[\"R\"],node_style=\"draw, rounded corners, fill=blue!10\", options=\"scale=2, font=\\\\huge\\\\sf\")"
   ]
  },
  {
   "cell_type": "code",
   "execution_count": 8,
   "metadata": {},
   "outputs": [
    {
     "name": "stdout",
     "output_type": "stream",
     "text": [
      "CostedNode\n",
      "  vars: Array{String}((4,))\n",
      "    1: String \"Z_Test1\"\n",
      "    2: String \"INT_x1_Test1\"\n",
      "    3: String \"INT_x3_Test1\"\n",
      "    4: String \"INT_x2_Test1\"\n",
      "  vals: Array{Float64}((4,)) [2.5, 0.833333, 1.0e-30, 1.66667]\n",
      "  vars_expanded: Array{String}((0,))\n",
      "  best_vals: Array{Float64}((0,)) Float64[]\n",
      "  cost: Float64 2.4999999147791763\n",
      "  level: Int16 1\n",
      "  ID: Int16 1\n",
      "  parentID: Int16 0\n",
      "  label: String \"R\"\n"
     ]
    }
   ],
   "source": [
    "dump(N0)"
   ]
  },
  {
   "cell_type": "markdown",
   "metadata": {},
   "source": [
    "## Define some functions"
   ]
  },
  {
   "cell_type": "code",
   "execution_count": 9,
   "metadata": {},
   "outputs": [
    {
     "data": {
      "text/plain": [
       "identify_INT_vars (generic function with 1 method)"
      ]
     },
     "execution_count": 9,
     "metadata": {},
     "output_type": "execute_result"
    }
   ],
   "source": [
    "function identify_INT_vars(vars, vals)\n",
    "    \n",
    "    #count int variables\n",
    "    c = 0\n",
    "    int_vars = String[]\n",
    "    int_vals = Float64[]\n",
    "    \n",
    "    for (i,var) in enumerate(vars)\n",
    "        key = split(var,\"_\")[1]\n",
    "        if key == \"INT\"\n",
    "            push!(int_vars,var)\n",
    "            push!(int_vals,vals[i])\n",
    "        end\n",
    "    end\n",
    "        return int_vars,int_vals\n",
    "    end"
   ]
  },
  {
   "cell_type": "code",
   "execution_count": 10,
   "metadata": {},
   "outputs": [
    {
     "data": {
      "text/plain": [
       "nearest_ints (generic function with 1 method)"
      ]
     },
     "execution_count": 10,
     "metadata": {},
     "output_type": "execute_result"
    }
   ],
   "source": [
    "function nearest_ints(val)\n",
    "    rounded = round(val)\n",
    "    \n",
    "    if rounded >= val\n",
    "        return (rounded, rounded-1)\n",
    "    else\n",
    "        return (rounded+1,rounded)\n",
    "    end\n",
    "end"
   ]
  },
  {
   "cell_type": "code",
   "execution_count": 11,
   "metadata": {},
   "outputs": [
    {
     "data": {
      "text/plain": [
       "isInt (generic function with 1 method)"
      ]
     },
     "execution_count": 11,
     "metadata": {},
     "output_type": "execute_result"
    }
   ],
   "source": [
    "function isInt(i)\n",
    "   tol = 1e-3\n",
    "    return min(i - floor(i), ceil(i)-i) < tol\n",
    "end"
   ]
  },
  {
   "cell_type": "code",
   "execution_count": 12,
   "metadata": {},
   "outputs": [
    {
     "data": {
      "text/plain": [
       "cleanup_input (generic function with 2 methods)"
      ]
     },
     "execution_count": 12,
     "metadata": {},
     "output_type": "execute_result"
    }
   ],
   "source": [
    "function cleanup_input(varname::Array{String})\n",
    "    output = String[]\n",
    "    \n",
    "    for str in varname\n",
    "        trim = split(str, '.')[1]\n",
    "        elem = split(trim, '_')\n",
    "        s = \"\"\n",
    "        for e in elem\n",
    "            if e == \"Test1\"\n",
    "                s = s[1:end-1]\n",
    "                break\n",
    "            else\n",
    "                s = s*String(e)*'_'\n",
    "            end\n",
    "        end\n",
    "        push!(output,s)\n",
    "    end\n",
    "    return output\n",
    "end"
   ]
  },
  {
   "cell_type": "code",
   "execution_count": 13,
   "metadata": {},
   "outputs": [
    {
     "data": {
      "text/plain": [
       "constrain_variable (generic function with 1 method)"
      ]
     },
     "execution_count": 13,
     "metadata": {},
     "output_type": "execute_result"
    }
   ],
   "source": [
    "function constrain_variable(Parent::CostedNode, G::Graph, constrained_vars, constrained_vals,g, \n",
    "        var2expand::String, current_best)\n",
    "    \n",
    "    if isInt(current_best)\n",
    "        #findall(x->x==2, A)\n",
    "        j = findall(x->x== var2expand,cleanup_input(Parent.vars))\n",
    "        child_vars = copy(Parent.vars)\n",
    "        child_vals = copy(Parent.vals)\n",
    "        \n",
    "        deleteat!(child_vars, j)\n",
    "        deleteat!(child_vals, j)\n",
    "        N = length(G.fadjlist)\n",
    "        add_vertex!(G)\n",
    "        l = var2expand*\"=\"*string(round(current_best))\n",
    "        best_child = CostedNode(child_vars, child_vals, \n",
    "            [Parent.vars_expanded...,var2expand],[Parent.best_vals...,current_best],\n",
    "            Parent.cost,Parent.level+1, N+1, Parent.ID, l)\n",
    "        \n",
    "        add_edge!(G, Parent.ID, best_child.ID)\n",
    "        worst_child = nothing\n",
    "        \n",
    "    else    \n",
    "        (above, below) = nearest_ints(current_best)\n",
    "        expanded = [Parent.vars_expanded..., var2expand]\n",
    "        \n",
    "        best_above = [Parent.best_vals..., above]\n",
    "        best_below = [Parent.best_vals..., below]\n",
    "        \n",
    "        (vars_above, vals_above, cost_above) = g(expanded, best_above)\n",
    "        (vars_below, vals_below, cost_below) = g(expanded, best_below)\n",
    "        \n",
    "        N = length(G.fadjlist)\n",
    "        \n",
    "        labove = var2expand*\"=\"*string(above)\n",
    "        Nabove = CostedNode(vars_above, vals_above,\n",
    "            expanded,best_above,\n",
    "            cost_above, Parent.level+1,N+1, Parent.ID, labove)\n",
    "        \n",
    "        lbelow = var2expand*\"=\"*string(below)\n",
    "        Nbelow = CostedNode(vars_above, vals_above,\n",
    "            expanded,best_below,\n",
    "            cost_above, Parent.level+1,N+2, Parent.ID, lbelow)\n",
    "        \n",
    "        add_vertex!(G)\n",
    "        add_vertex!(G)\n",
    "        add_edge!(G, Parent.ID, Nabove.ID)\n",
    "        add_edge!(G, Parent.ID, Nbelow.ID)\n",
    "\n",
    "        if cost_above == nothing && cost_below == nothing\n",
    "            println(\"No feasible integer solution\")\n",
    "        elseif cost_above == nothing\n",
    "            println(\"Likely infeasible above\")\n",
    "            best_val = below\n",
    "            best_cost = cost_below[1]\n",
    "            remaining_vars, remaining_values = identify_INT_vars(vars_below,vals_below)\n",
    "            best_child = Nbelow\n",
    "            worst_child = Nabove\n",
    "        elseif cost_below == nothing\n",
    "            println(\"Likely infeasible below\")\n",
    "            best_val = above\n",
    "            best_cost = cost_above[1]\n",
    "            remaining_vars, remaining_values = identify_INT_vars(vars_above,vals_above)\n",
    "            best_child = Nabove\n",
    "            worst_child = Nbelow\n",
    "\n",
    "        elseif cost_above[1] <= cost_below[1]\n",
    "            best_val = above\n",
    "            best_cost = cost_above[1]\n",
    "            remaining_vars, remaining_values = identify_INT_vars(vars_above,vals_above)\n",
    "            best_child = Nabove\n",
    "            worst_child = Nbelow\n",
    "\n",
    "        else\n",
    "            best_val = below\n",
    "            best_cost = cost_below[1]\n",
    "            remaining_vars, remaining_values = identify_INT_vars(vars_below,vals_below)\n",
    "            best_child = Nbelow\n",
    "            worst_child = Nabove\n",
    "        end\n",
    "    end\n",
    "    \n",
    "    return (best_child, worst_child)\n",
    "    \n",
    "end\n",
    "\n",
    "\n"
   ]
  },
  {
   "cell_type": "code",
   "execution_count": 14,
   "metadata": {},
   "outputs": [
    {
     "data": {
      "text/plain": [
       "expand! (generic function with 1 method)"
      ]
     },
     "execution_count": 14,
     "metadata": {},
     "output_type": "execute_result"
    }
   ],
   "source": [
    "Int_Vars, Int_Vals = identify_INT_vars(cleanup_input(N0.vars),N0.vals)\n",
    "cols = fill(\"fill=red!10\",2*length(Int_Vars)+1)\n",
    "cols[1] = \"fill=blue!10\"\n",
    "\n",
    "function expand!(ParentNode,Graph, Int_Vars, Int_Vals,g)\n",
    "    \n",
    "    current_rank = ParentNode.level    #Identify current level of the tree (which keys the variable to expand)\n",
    "    child_rank = current_rank+1 #Put all children one level below\n",
    "    Nvars = length(Int_Vars)\n",
    "    #i = current_rank  #Determine the variable which gets expanded based on the rank\n",
    "    var2expand   = Int_Vars[1]\n",
    "    val2expand   = Int_Vals[1]\n",
    "    \n",
    "    (best_child, worst_child) = constrain_variable(ParentNode, Graph, Int_Vars, Int_Vals,g, \n",
    "        var2expand, val2expand)\n",
    "    \n",
    "end\n"
   ]
  },
  {
   "cell_type": "code",
   "execution_count": 15,
   "metadata": {},
   "outputs": [
    {
     "data": {
      "text/plain": [
       "drawgraph (generic function with 1 method)"
      ]
     },
     "execution_count": 15,
     "metadata": {},
     "output_type": "execute_result"
    }
   ],
   "source": [
    "function drawgraph(G, Node_List, cols)\n",
    "    labels = fill(\"\", length(Node_List))\n",
    "    node_styles=Dict()\n",
    "    for Node in Node_List\n",
    "        e = split(Node.label, '_')\n",
    "        labels[Node.ID] = e[min(2,length(e))]\n",
    "    end\n",
    "    for (i,col) in enumerate(cols[1:length(Node_List)])\n",
    "        node_styles[i] =col\n",
    "    end\n",
    "    plot(G, labels,node_style=\"draw, rounded corners, fill=blue!10\", node_styles=node_styles,\n",
    "        options=\"scale=2, font=\\\\huge\\\\sf\")\n",
    "end"
   ]
  },
  {
   "cell_type": "markdown",
   "metadata": {},
   "source": [
    "## Constrain the first integer variable"
   ]
  },
  {
   "cell_type": "code",
   "execution_count": 16,
   "metadata": {},
   "outputs": [
    {
     "data": {
      "text/plain": [
       "g (generic function with 1 method)"
      ]
     },
     "execution_count": 16,
     "metadata": {},
     "output_type": "execute_result"
    }
   ],
   "source": [
    "g(vars, vals) = mt.run_Test1(vars, vals)"
   ]
  },
  {
   "cell_type": "code",
   "execution_count": 17,
   "metadata": {},
   "outputs": [
    {
     "name": "stdout",
     "output_type": "stream",
     "text": [
      "Likely infeasible below\n",
      "Likely infeasible model at ['INT_x1']\n",
      " [0.]\n"
     ]
    },
    {
     "data": {
      "text/plain": [
       "\"fill=blue!10\""
      ]
     },
     "execution_count": 17,
     "metadata": {},
     "output_type": "execute_result"
    }
   ],
   "source": [
    "(Parent, Pruned) = expand!(N0, G, Int_Vars, Int_Vals, g)\n",
    "push!(Node_List, Parent)\n",
    "push!(Node_List, Parent)\n",
    "Node_List[Pruned.ID] = Pruned\n",
    "cols[Parent.ID] = \"fill=blue!10\"\n"
   ]
  },
  {
   "cell_type": "code",
   "execution_count": 18,
   "metadata": {},
   "outputs": [
    {
     "data": {
      "image/svg+xml": [
       "<?xml version=\"1.0\" encoding=\"UTF-8\"?>\n",
       "<svg xmlns=\"http://www.w3.org/2000/svg\" xmlns:xlink=\"http://www.w3.org/1999/xlink\" width=\"210.062pt\" height=\"78.01pt\" viewBox=\"0 0 210.062 78.01\" version=\"1.1\">\n",
       "<defs>\n",
       "<g>\n",
       "<symbol overflow=\"visible\" id=\"glyph-1543859544656726-0-0\">\n",
       "<path style=\"stroke:none;\" d=\"\"/>\n",
       "</symbol>\n",
       "<symbol overflow=\"visible\" id=\"glyph-1543859544656726-0-1\">\n",
       "<path style=\"stroke:none;\" d=\"M 11.953125 0 L 8.140625 -6.734375 L 8.1875 -6.75 C 11.40625 -7.875 11.421875 -10.09375 11.421875 -10.5 C 11.421875 -12.453125 9.4375 -14.328125 6.46875 -14.328125 L 1.84375 -14.328125 L 1.84375 0 L 3.53125 0 L 3.53125 -6.546875 L 6.5625 -6.546875 L 10.21875 0 Z M 9.796875 -10.5 C 9.796875 -9.375 8.96875 -7.8125 6.234375 -7.8125 L 3.53125 -7.8125 L 3.53125 -13.171875 L 6.234375 -13.171875 C 8.859375 -13.171875 9.796875 -11.6875 9.796875 -10.5 Z M 9.796875 -10.5 \"/>\n",
       "</symbol>\n",
       "<symbol overflow=\"visible\" id=\"glyph-1543859544656726-0-2\">\n",
       "<path style=\"stroke:none;\" d=\"M 8.90625 0 L 5.125 -4.578125 L 8.578125 -8.875 L 6.78125 -8.875 L 4.40625 -5.765625 L 1.9375 -8.875 L 0.109375 -8.875 L 3.671875 -4.578125 L 0 0 L 1.8125 0 L 4.40625 -3.640625 L 7.078125 0 Z M 8.90625 0 \"/>\n",
       "</symbol>\n",
       "<symbol overflow=\"visible\" id=\"glyph-1543859544656726-0-3\">\n",
       "<path style=\"stroke:none;\" d=\"M 8.296875 0 L 8.296875 -1.203125 L 5.859375 -1.203125 L 5.859375 -13.875 L 5.46875 -13.875 C 4.359375 -12.71875 3.0625 -12.5625 1.734375 -12.515625 L 1.734375 -11.3125 C 2.328125 -11.34375 3.3125 -11.375 4.28125 -11.8125 L 4.28125 -1.203125 L 1.84375 -1.203125 L 1.84375 0 Z M 8.296875 0 \"/>\n",
       "</symbol>\n",
       "<symbol overflow=\"visible\" id=\"glyph-1543859544656726-0-4\">\n",
       "<path style=\"stroke:none;\" d=\"M 14 -6.984375 C 14 -7.359375 13.65625 -7.359375 13.296875 -7.359375 L 1.78125 -7.359375 C 1.421875 -7.359375 1.078125 -7.359375 1.078125 -6.984375 C 1.078125 -6.625 1.390625 -6.625 1.6875 -6.625 L 13.390625 -6.625 C 13.6875 -6.625 14 -6.625 14 -6.984375 Z M 14 -3.328125 C 14 -3.671875 13.6875 -3.671875 13.390625 -3.671875 L 1.6875 -3.671875 C 1.390625 -3.671875 1.078125 -3.671875 1.078125 -3.328125 C 1.078125 -2.953125 1.421875 -2.953125 1.78125 -2.953125 L 13.296875 -2.953125 C 13.65625 -2.953125 14 -2.953125 14 -3.328125 Z M 14 -3.328125 \"/>\n",
       "</symbol>\n",
       "<symbol overflow=\"visible\" id=\"glyph-1543859544656726-0-5\">\n",
       "<path style=\"stroke:none;\" d=\"M 3.515625 0 L 3.515625 -1.65625 L 1.859375 -1.65625 L 1.859375 0 Z M 3.515625 0 \"/>\n",
       "</symbol>\n",
       "<symbol overflow=\"visible\" id=\"glyph-1543859544656726-0-6\">\n",
       "<path style=\"stroke:none;\" d=\"M 8.90625 -6.75 C 8.90625 -7.9375 8.875 -10.125 8.03125 -11.8125 C 7.1875 -13.453125 5.828125 -13.875 4.859375 -13.875 C 3.453125 -13.875 2.25 -13.0625 1.625 -11.734375 C 0.96875 -10.34375 0.78125 -8.921875 0.78125 -6.75 C 0.78125 -5.265625 0.84375 -3.453125 1.59375 -1.859375 C 2.4375 -0.109375 3.859375 0.328125 4.828125 0.328125 C 6.109375 0.328125 7.359375 -0.34375 8.0625 -1.78125 C 8.78125 -3.265625 8.90625 -4.890625 8.90625 -6.75 Z M 7.328125 -6.984375 C 7.328125 -5.0625 7.328125 -0.921875 4.828125 -0.921875 C 3.265625 -0.921875 2.78125 -2.734375 2.640625 -3.328125 C 2.390625 -4.359375 2.359375 -5.34375 2.359375 -6.984375 C 2.359375 -8.265625 2.359375 -9.703125 2.75 -10.84375 C 3.21875 -12.171875 4.046875 -12.625 4.828125 -12.625 C 6.359375 -12.625 6.859375 -11.09375 7.015625 -10.5625 C 7.328125 -9.453125 7.328125 -8.1875 7.328125 -6.984375 Z M 7.328125 -6.984375 \"/>\n",
       "</symbol>\n",
       "</g>\n",
       "<clipPath id=\"clip-1543859544656726-1\">\n",
       "  <path d=\"M 0 51 L 72 51 L 72 78.011719 L 0 78.011719 Z M 0 51 \"/>\n",
       "</clipPath>\n",
       "<clipPath id=\"clip-1543859544656726-2\">\n",
       "  <path d=\"M 139 51 L 210.0625 51 L 210.0625 78.011719 L 139 78.011719 Z M 139 51 \"/>\n",
       "</clipPath>\n",
       "</defs>\n",
       "<g id=\"surface1\">\n",
       "<path style=\"fill:none;stroke-width:0.3985;stroke-linecap:butt;stroke-linejoin:miter;stroke:rgb(0%,0%,0%);stroke-opacity:1;stroke-miterlimit:10;\" d=\"M -19.288813 -15.139125 L -45.152094 -35.439906 \" transform=\"matrix(1,0,0,-1,105.031,10.689)\"/>\n",
       "<path style=\"fill:none;stroke-width:0.3985;stroke-linecap:butt;stroke-linejoin:miter;stroke:rgb(0%,0%,0%);stroke-opacity:1;stroke-miterlimit:10;\" d=\"M 19.289312 -15.139125 L 45.152594 -35.439906 \" transform=\"matrix(1,0,0,-1,105.031,10.689)\"/>\n",
       "<path style=\"fill-rule:nonzero;fill:rgb(89.99939%,89.99939%,100%);fill-opacity:1;stroke-width:0.3985;stroke-linecap:butt;stroke-linejoin:miter;stroke:rgb(0%,0%,0%);stroke-opacity:1;stroke-miterlimit:10;\" d=\"M 5.597906 10.489781 L -5.597406 10.489781 C -7.796625 10.489781 -9.581781 8.704625 -9.581781 6.505406 L -9.581781 -6.506312 C -9.581781 -8.705531 -7.796625 -10.490687 -5.597406 -10.490687 L 5.597906 -10.490687 C 7.797125 -10.490687 9.582281 -8.705531 9.582281 -6.506312 L 9.582281 6.505406 C 9.582281 8.704625 7.797125 10.489781 5.597906 10.489781 Z M 5.597906 10.489781 \" transform=\"matrix(1,0,0,-1,105.031,10.689)\"/>\n",
       "<g style=\"fill:rgb(0%,0%,0%);fill-opacity:1;\">\n",
       "  <use xlink:href=\"#glyph-1543859544656726-0-1\" x=\"98.77\" y=\"17.859\"/>\n",
       "</g>\n",
       "<path style=\" stroke:none;fill-rule:nonzero;fill:rgb(89.99939%,89.99939%,100%);fill-opacity:1;\" d=\"M 61.414062 56.953125 L 4.183594 56.953125 C 1.984375 56.953125 0.199219 58.738281 0.199219 60.9375 L 0.199219 73.824219 C 0.199219 76.027344 1.984375 77.808594 4.183594 77.808594 L 61.414062 77.808594 C 63.613281 77.808594 65.398438 76.027344 65.398438 73.824219 L 65.398438 60.9375 C 65.398438 58.738281 63.613281 56.953125 61.414062 56.953125 Z M 61.414062 56.953125 \"/>\n",
       "<g clip-path=\"url(#clip-1543859544656726-1)\" clip-rule=\"nonzero\">\n",
       "<path style=\"fill:none;stroke-width:0.3985;stroke-linecap:butt;stroke-linejoin:miter;stroke:rgb(0%,0%,0%);stroke-opacity:1;stroke-miterlimit:10;\" d=\"M 28.615062 10.428875 L -28.615406 10.428875 C -30.814625 10.428875 -32.599781 8.643719 -32.599781 6.4445 L -32.599781 -6.442219 C -32.599781 -8.645344 -30.814625 -10.426594 -28.615406 -10.426594 L 28.615062 -10.426594 C 30.814281 -10.426594 32.599437 -8.645344 32.599437 -6.442219 L 32.599437 6.4445 C 32.599437 8.643719 30.814281 10.428875 28.615062 10.428875 Z M 28.615062 10.428875 \" transform=\"matrix(1,0,0,-1,32.799,67.382)\"/>\n",
       "</g>\n",
       "<g style=\"fill:rgb(0%,0%,0%);fill-opacity:1;\">\n",
       "  <use xlink:href=\"#glyph-1543859544656726-0-2\" x=\"3.52\" y=\"74.16\"/>\n",
       "  <use xlink:href=\"#glyph-1543859544656726-0-3\" x=\"12.446209\" y=\"74.16\"/>\n",
       "  <use xlink:href=\"#glyph-1543859544656726-0-4\" x=\"22.157593\" y=\"74.16\"/>\n",
       "  <use xlink:href=\"#glyph-1543859544656726-0-3\" x=\"37.261895\" y=\"74.16\"/>\n",
       "  <use xlink:href=\"#glyph-1543859544656726-0-5\" x=\"46.97328\" y=\"74.16\"/>\n",
       "  <use xlink:href=\"#glyph-1543859544656726-0-6\" x=\"52.366197\" y=\"74.16\"/>\n",
       "</g>\n",
       "<path style=\" stroke:none;fill-rule:nonzero;fill:rgb(100%,89.99939%,89.99939%);fill-opacity:1;\" d=\"M 205.878906 56.953125 L 148.648438 56.953125 C 146.449219 56.953125 144.664062 58.738281 144.664062 60.9375 L 144.664062 73.824219 C 144.664062 76.027344 146.449219 77.808594 148.648438 77.808594 L 205.878906 77.808594 C 208.078125 77.808594 209.863281 76.027344 209.863281 73.824219 L 209.863281 60.9375 C 209.863281 58.738281 208.078125 56.953125 205.878906 56.953125 Z M 205.878906 56.953125 \"/>\n",
       "<g clip-path=\"url(#clip-1543859544656726-2)\" clip-rule=\"nonzero\">\n",
       "<path style=\"fill:none;stroke-width:0.3985;stroke-linecap:butt;stroke-linejoin:miter;stroke:rgb(0%,0%,0%);stroke-opacity:1;stroke-miterlimit:10;\" d=\"M 28.615906 10.428875 L -28.614563 10.428875 C -30.813781 10.428875 -32.598938 8.643719 -32.598938 6.4445 L -32.598938 -6.442219 C -32.598938 -8.645344 -30.813781 -10.426594 -28.614563 -10.426594 L 28.615906 -10.426594 C 30.815125 -10.426594 32.600281 -8.645344 32.600281 -6.442219 L 32.600281 6.4445 C 32.600281 8.643719 30.815125 10.428875 28.615906 10.428875 Z M 28.615906 10.428875 \" transform=\"matrix(1,0,0,-1,177.263,67.382)\"/>\n",
       "</g>\n",
       "<g style=\"fill:rgb(0%,0%,0%);fill-opacity:1;\">\n",
       "  <use xlink:href=\"#glyph-1543859544656726-0-2\" x=\"147.984\" y=\"74.16\"/>\n",
       "  <use xlink:href=\"#glyph-1543859544656726-0-3\" x=\"156.910209\" y=\"74.16\"/>\n",
       "  <use xlink:href=\"#glyph-1543859544656726-0-4\" x=\"166.621593\" y=\"74.16\"/>\n",
       "  <use xlink:href=\"#glyph-1543859544656726-0-6\" x=\"181.725895\" y=\"74.16\"/>\n",
       "  <use xlink:href=\"#glyph-1543859544656726-0-5\" x=\"191.43728\" y=\"74.16\"/>\n",
       "  <use xlink:href=\"#glyph-1543859544656726-0-6\" x=\"196.830197\" y=\"74.16\"/>\n",
       "</g>\n",
       "</g>\n",
       "</svg>\n",
       "\n"
      ],
      "text/plain": [
       "TikzPicture(\"\\\\graph [layered layout, ] {\\n1/\\\"R\\\" [draw, rounded corners, fill=blue!10,fill=blue!10],\\n2/\\\"x1=1.0\\\" [draw, rounded corners, fill=blue!10,fill=blue!10],\\n3/\\\"x1=0.0\\\" [draw, rounded corners, fill=blue!10,fill=red!10],\\n;\\n1 -- [,] 2;\\n1 -- [,] 3;\\n};\\n\", \"scale=2, font=\\\\huge\\\\sf\", \"\\\\usepackage{fontspec}\\n\\\\setmainfont{Latin Modern Math}\\n\\\\usetikzlibrary{graphs}\\n\\\\usetikzlibrary{graphdrawing}\\n\\n% from: https://tex.stackexchange.com/questions/453132/fresh-install-of-tl2018-no-tikz-graph-drawing-libraries-found\\n\\\\usepackage{luacode}\\n\\\\begin{luacode*}\\n\\tfunction pgf_lookup_and_require(name)\\n\\tlocal sep = package.config:sub(1,1)\\n\\tlocal function lookup(name)\\n\\tlocal sub = name:gsub('%.',sep)  \\n\\tif kpse.find_file(sub, 'lua') then\\n\\trequire(name)\\n\\telseif kpse.find_file(sub, 'clua') then\\n\\tcollectgarbage('stop') \\n\\trequire(name)\\n\\tcollectgarbage('restart')\\n\\telse\\n\\treturn false\\n\\tend\\n\\treturn true\\n\\tend\\n\\treturn\\n\\tlookup('pgf.gd.' .. name .. '.library') or\\n\\tlookup('pgf.gd.' .. name) or\\n\\tlookup(name .. '.library') or\\n\\tlookup(name) \\n\\tend\\n\\\\end{luacode*}\\n\\n\\\\usegdlibrary{layered}\", true)"
      ]
     },
     "execution_count": 18,
     "metadata": {},
     "output_type": "execute_result"
    }
   ],
   "source": [
    "drawgraph(G, Node_List, cols)"
   ]
  },
  {
   "cell_type": "markdown",
   "metadata": {},
   "source": [
    "## Expand subsequent nodes"
   ]
  },
  {
   "cell_type": "code",
   "execution_count": 69,
   "metadata": {},
   "outputs": [
    {
     "data": {
      "image/svg+xml": [
       "<?xml version=\"1.0\" encoding=\"UTF-8\"?>\n",
       "<svg xmlns=\"http://www.w3.org/2000/svg\" xmlns:xlink=\"http://www.w3.org/1999/xlink\" width=\"282.294pt\" height=\"191.396pt\" viewBox=\"0 0 282.294 191.396\" version=\"1.1\">\n",
       "<defs>\n",
       "<g>\n",
       "<symbol overflow=\"visible\" id=\"glyph-1543859544656728-0-0\">\n",
       "<path style=\"stroke:none;\" d=\"\"/>\n",
       "</symbol>\n",
       "<symbol overflow=\"visible\" id=\"glyph-1543859544656728-0-1\">\n",
       "<path style=\"stroke:none;\" d=\"M 11.953125 0 L 8.140625 -6.734375 L 8.1875 -6.75 C 11.40625 -7.875 11.421875 -10.09375 11.421875 -10.5 C 11.421875 -12.453125 9.4375 -14.328125 6.46875 -14.328125 L 1.84375 -14.328125 L 1.84375 0 L 3.53125 0 L 3.53125 -6.546875 L 6.5625 -6.546875 L 10.21875 0 Z M 9.796875 -10.5 C 9.796875 -9.375 8.96875 -7.8125 6.234375 -7.8125 L 3.53125 -7.8125 L 3.53125 -13.171875 L 6.234375 -13.171875 C 8.859375 -13.171875 9.796875 -11.6875 9.796875 -10.5 Z M 9.796875 -10.5 \"/>\n",
       "</symbol>\n",
       "<symbol overflow=\"visible\" id=\"glyph-1543859544656728-0-2\">\n",
       "<path style=\"stroke:none;\" d=\"M 8.90625 0 L 5.125 -4.578125 L 8.578125 -8.875 L 6.78125 -8.875 L 4.40625 -5.765625 L 1.9375 -8.875 L 0.109375 -8.875 L 3.671875 -4.578125 L 0 0 L 1.8125 0 L 4.40625 -3.640625 L 7.078125 0 Z M 8.90625 0 \"/>\n",
       "</symbol>\n",
       "<symbol overflow=\"visible\" id=\"glyph-1543859544656728-0-3\">\n",
       "<path style=\"stroke:none;\" d=\"M 8.296875 0 L 8.296875 -1.203125 L 5.859375 -1.203125 L 5.859375 -13.875 L 5.46875 -13.875 C 4.359375 -12.71875 3.0625 -12.5625 1.734375 -12.515625 L 1.734375 -11.3125 C 2.328125 -11.34375 3.3125 -11.375 4.28125 -11.8125 L 4.28125 -1.203125 L 1.84375 -1.203125 L 1.84375 0 Z M 8.296875 0 \"/>\n",
       "</symbol>\n",
       "<symbol overflow=\"visible\" id=\"glyph-1543859544656728-0-4\">\n",
       "<path style=\"stroke:none;\" d=\"M 14 -6.984375 C 14 -7.359375 13.65625 -7.359375 13.296875 -7.359375 L 1.78125 -7.359375 C 1.421875 -7.359375 1.078125 -7.359375 1.078125 -6.984375 C 1.078125 -6.625 1.390625 -6.625 1.6875 -6.625 L 13.390625 -6.625 C 13.6875 -6.625 14 -6.625 14 -6.984375 Z M 14 -3.328125 C 14 -3.671875 13.6875 -3.671875 13.390625 -3.671875 L 1.6875 -3.671875 C 1.390625 -3.671875 1.078125 -3.671875 1.078125 -3.328125 C 1.078125 -2.953125 1.421875 -2.953125 1.78125 -2.953125 L 13.296875 -2.953125 C 13.65625 -2.953125 14 -2.953125 14 -3.328125 Z M 14 -3.328125 \"/>\n",
       "</symbol>\n",
       "<symbol overflow=\"visible\" id=\"glyph-1543859544656728-0-5\">\n",
       "<path style=\"stroke:none;\" d=\"M 3.515625 0 L 3.515625 -1.65625 L 1.859375 -1.65625 L 1.859375 0 Z M 3.515625 0 \"/>\n",
       "</symbol>\n",
       "<symbol overflow=\"visible\" id=\"glyph-1543859544656728-0-6\">\n",
       "<path style=\"stroke:none;\" d=\"M 8.90625 -6.75 C 8.90625 -7.9375 8.875 -10.125 8.03125 -11.8125 C 7.1875 -13.453125 5.828125 -13.875 4.859375 -13.875 C 3.453125 -13.875 2.25 -13.0625 1.625 -11.734375 C 0.96875 -10.34375 0.78125 -8.921875 0.78125 -6.75 C 0.78125 -5.265625 0.84375 -3.453125 1.59375 -1.859375 C 2.4375 -0.109375 3.859375 0.328125 4.828125 0.328125 C 6.109375 0.328125 7.359375 -0.34375 8.0625 -1.78125 C 8.78125 -3.265625 8.90625 -4.890625 8.90625 -6.75 Z M 7.328125 -6.984375 C 7.328125 -5.0625 7.328125 -0.921875 4.828125 -0.921875 C 3.265625 -0.921875 2.78125 -2.734375 2.640625 -3.328125 C 2.390625 -4.359375 2.359375 -5.34375 2.359375 -6.984375 C 2.359375 -8.265625 2.359375 -9.703125 2.75 -10.84375 C 3.21875 -12.171875 4.046875 -12.625 4.828125 -12.625 C 6.359375 -12.625 6.859375 -11.09375 7.015625 -10.5625 C 7.328125 -9.453125 7.328125 -8.1875 7.328125 -6.984375 Z M 7.328125 -6.984375 \"/>\n",
       "</symbol>\n",
       "<symbol overflow=\"visible\" id=\"glyph-1543859544656728-0-7\">\n",
       "<path style=\"stroke:none;\" d=\"M 8.71875 0 L 8.71875 -1.40625 L 5.203125 -1.40625 C 4.953125 -1.40625 4.703125 -1.390625 4.46875 -1.390625 L 2.390625 -1.390625 L 2.390625 -1.40625 L 5.328125 -4.375 C 5.90625 -4.984375 6.78125 -5.703125 7.375 -6.421875 C 7.953125 -7.125 8.71875 -8.125 8.71875 -9.5625 C 8.71875 -11.84375 7.1875 -13.875 4.578125 -13.875 C 2.546875 -13.875 1.359375 -12.59375 0.8125 -10.59375 L 1.609375 -9.484375 C 2.0625 -11.359375 2.703125 -12.5625 4.3125 -12.5625 C 6.09375 -12.5625 7.078125 -11.109375 7.078125 -9.515625 C 7.078125 -7.625 5.640625 -6.15625 4.546875 -5.0625 L 0.96875 -1.328125 L 0.96875 0 Z M 8.71875 0 \"/>\n",
       "</symbol>\n",
       "<symbol overflow=\"visible\" id=\"glyph-1543859544656728-0-8\">\n",
       "<path style=\"stroke:none;\" d=\"M 8.875 -3.796875 C 8.875 -5.4375 7.75 -6.796875 6.203125 -7.3125 C 7.4375 -8 8.34375 -9.28125 8.34375 -10.765625 C 8.34375 -12.5 6.75 -13.875 4.8125 -13.875 C 3.03125 -13.875 1.65625 -12.78125 1.078125 -11.609375 C 1.21875 -11.40625 1.59375 -10.796875 1.78125 -10.5 C 2.234375 -11.71875 3.40625 -12.625 4.796875 -12.625 C 5.953125 -12.625 6.71875 -11.859375 6.71875 -10.765625 C 6.71875 -9.625 5.984375 -8.390625 4.765625 -8.09375 C 4.6875 -8.09375 3.40625 -7.96875 3.25 -7.953125 L 3.25 -6.6875 L 4.640625 -6.6875 C 6.59375 -6.6875 7.140625 -5 7.140625 -3.828125 C 7.140625 -2.203125 6.234375 -0.953125 4.75 -0.953125 C 3.59375 -0.953125 1.96875 -1.53125 1.03125 -3.0625 C 0.890625 -2.328125 0.890625 -2.296875 0.8125 -1.796875 C 1.78125 -0.375 3.34375 0.328125 4.796875 0.328125 C 7.140625 0.328125 8.875 -1.625 8.875 -3.796875 Z M 8.875 -3.796875 \"/>\n",
       "</symbol>\n",
       "</g>\n",
       "<clipPath id=\"clip-1543859544656728-1\">\n",
       "  <path d=\"M 216 113 L 282.292969 113 L 282.292969 135 L 216 135 Z M 216 113 \"/>\n",
       "</clipPath>\n",
       "<clipPath id=\"clip-1543859544656728-2\">\n",
       "  <path d=\"M 211 108 L 282.292969 108 L 282.292969 141 L 211 141 Z M 211 108 \"/>\n",
       "</clipPath>\n",
       "<clipPath id=\"clip-1543859544656728-3\">\n",
       "  <path d=\"M 216 170 L 282.292969 170 L 282.292969 191.394531 L 216 191.394531 Z M 216 170 \"/>\n",
       "</clipPath>\n",
       "<clipPath id=\"clip-1543859544656728-4\">\n",
       "  <path d=\"M 211 164 L 282.292969 164 L 282.292969 191.394531 L 211 191.394531 Z M 211 164 \"/>\n",
       "</clipPath>\n",
       "</defs>\n",
       "<g id=\"surface1\">\n",
       "<path style=\"fill:none;stroke-width:0.3985;stroke-linecap:butt;stroke-linejoin:miter;stroke:rgb(0%,0%,0%);stroke-opacity:1;stroke-miterlimit:10;\" d=\"M 19.289312 -15.138125 L 45.152594 -35.438906 \" transform=\"matrix(1,0,0,-1,105.031,10.69)\"/>\n",
       "<path style=\"fill:none;stroke-width:0.3985;stroke-linecap:butt;stroke-linejoin:miter;stroke:rgb(0%,0%,0%);stroke-opacity:1;stroke-miterlimit:10;\" d=\"M -19.288813 -15.138125 L -45.152094 -35.438906 \" transform=\"matrix(1,0,0,-1,105.031,10.69)\"/>\n",
       "<path style=\"fill:none;stroke-width:0.3985;stroke-linecap:butt;stroke-linejoin:miter;stroke:rgb(0%,0%,0%);stroke-opacity:1;stroke-miterlimit:10;\" d=\"M 99.316656 -77.950625 L 117.383062 -92.130312 \" transform=\"matrix(1,0,0,-1,105.031,10.69)\"/>\n",
       "<path style=\"fill:none;stroke-width:0.3985;stroke-linecap:butt;stroke-linejoin:miter;stroke:rgb(0%,0%,0%);stroke-opacity:1;stroke-miterlimit:10;\" d=\"M 45.152594 -77.950625 L 27.082281 -92.130312 \" transform=\"matrix(1,0,0,-1,105.031,10.69)\"/>\n",
       "<path style=\"fill:none;stroke-width:0.3985;stroke-linecap:butt;stroke-linejoin:miter;stroke:rgb(0%,0%,0%);stroke-opacity:1;stroke-miterlimit:10;\" d=\"M 144.465094 -134.642031 L 144.465094 -148.825625 \" transform=\"matrix(1,0,0,-1,105.031,10.69)\"/>\n",
       "<path style=\"fill-rule:nonzero;fill:rgb(89.99939%,89.99939%,100%);fill-opacity:1;stroke-width:0.3985;stroke-linecap:butt;stroke-linejoin:miter;stroke:rgb(0%,0%,0%);stroke-opacity:1;stroke-miterlimit:10;\" d=\"M 5.597906 10.490781 L -5.597406 10.490781 C -7.796625 10.490781 -9.581781 8.705625 -9.581781 6.506406 L -9.581781 -6.505312 C -9.581781 -8.704531 -7.796625 -10.489687 -5.597406 -10.489687 L 5.597906 -10.489687 C 7.797125 -10.489687 9.582281 -8.704531 9.582281 -6.505312 L 9.582281 6.506406 C 9.582281 8.705625 7.797125 10.490781 5.597906 10.490781 Z M 5.597906 10.490781 \" transform=\"matrix(1,0,0,-1,105.031,10.69)\"/>\n",
       "<g style=\"fill:rgb(0%,0%,0%);fill-opacity:1;\">\n",
       "  <use xlink:href=\"#glyph-1543859544656728-0-1\" x=\"98.77\" y=\"17.86\"/>\n",
       "</g>\n",
       "<path style=\"fill-rule:nonzero;fill:rgb(89.99939%,89.99939%,100%);fill-opacity:1;stroke-width:0.3985;stroke-linecap:butt;stroke-linejoin:miter;stroke:rgb(0%,0%,0%);stroke-opacity:1;stroke-miterlimit:10;\" d=\"M 28.615906 10.429875 L -28.614563 10.429875 C -30.813781 10.429875 -32.598938 8.644719 -32.598938 6.441594 L -32.598938 -6.445125 C -32.598938 -8.644344 -30.813781 -10.4295 -28.614563 -10.4295 L 28.615906 -10.4295 C 30.815125 -10.4295 32.600281 -8.644344 32.600281 -6.445125 L 32.600281 6.441594 C 32.600281 8.644719 30.815125 10.429875 28.615906 10.429875 Z M 28.615906 10.429875 \" transform=\"matrix(1,0,0,-1,177.263,67.383)\"/>\n",
       "<g style=\"fill:rgb(0%,0%,0%);fill-opacity:1;\">\n",
       "  <use xlink:href=\"#glyph-1543859544656728-0-2\" x=\"147.984\" y=\"74.16\"/>\n",
       "  <use xlink:href=\"#glyph-1543859544656728-0-3\" x=\"156.910209\" y=\"74.16\"/>\n",
       "  <use xlink:href=\"#glyph-1543859544656728-0-4\" x=\"166.621593\" y=\"74.16\"/>\n",
       "  <use xlink:href=\"#glyph-1543859544656728-0-3\" x=\"181.725895\" y=\"74.16\"/>\n",
       "  <use xlink:href=\"#glyph-1543859544656728-0-5\" x=\"191.43728\" y=\"74.16\"/>\n",
       "  <use xlink:href=\"#glyph-1543859544656728-0-6\" x=\"196.830197\" y=\"74.16\"/>\n",
       "</g>\n",
       "<path style=\"fill-rule:nonzero;fill:rgb(100%,89.99939%,89.99939%);fill-opacity:1;stroke-width:0.3985;stroke-linecap:butt;stroke-linejoin:miter;stroke:rgb(0%,0%,0%);stroke-opacity:1;stroke-miterlimit:10;\" d=\"M 28.615062 10.429875 L -28.615406 10.429875 C -30.814625 10.429875 -32.599781 8.644719 -32.599781 6.441594 L -32.599781 -6.445125 C -32.599781 -8.644344 -30.814625 -10.4295 -28.615406 -10.4295 L 28.615062 -10.4295 C 30.814281 -10.4295 32.599437 -8.644344 32.599437 -6.445125 L 32.599437 6.441594 C 32.599437 8.644719 30.814281 10.429875 28.615062 10.429875 Z M 28.615062 10.429875 \" transform=\"matrix(1,0,0,-1,32.799,67.383)\"/>\n",
       "<g style=\"fill:rgb(0%,0%,0%);fill-opacity:1;\">\n",
       "  <use xlink:href=\"#glyph-1543859544656728-0-2\" x=\"3.52\" y=\"74.16\"/>\n",
       "  <use xlink:href=\"#glyph-1543859544656728-0-3\" x=\"12.446209\" y=\"74.16\"/>\n",
       "  <use xlink:href=\"#glyph-1543859544656728-0-4\" x=\"22.157593\" y=\"74.16\"/>\n",
       "  <use xlink:href=\"#glyph-1543859544656728-0-6\" x=\"37.261895\" y=\"74.16\"/>\n",
       "  <use xlink:href=\"#glyph-1543859544656728-0-5\" x=\"46.97328\" y=\"74.16\"/>\n",
       "  <use xlink:href=\"#glyph-1543859544656728-0-6\" x=\"52.366197\" y=\"74.16\"/>\n",
       "</g>\n",
       "<g clip-path=\"url(#clip-1543859544656728-1)\" clip-rule=\"nonzero\">\n",
       "<path style=\" stroke:none;fill-rule:nonzero;fill:rgb(89.99939%,89.99939%,100%);fill-opacity:1;\" d=\"M 278.109375 113.644531 L 220.878906 113.644531 C 218.679688 113.644531 216.894531 115.429688 216.894531 117.632812 L 216.894531 130.519531 C 216.894531 132.71875 218.679688 134.503906 220.878906 134.503906 L 278.109375 134.503906 C 280.3125 134.503906 282.09375 132.71875 282.09375 130.519531 L 282.09375 117.632812 C 282.09375 115.429688 280.3125 113.644531 278.109375 113.644531 Z M 278.109375 113.644531 \"/>\n",
       "</g>\n",
       "<g clip-path=\"url(#clip-1543859544656728-2)\" clip-rule=\"nonzero\">\n",
       "<path style=\"fill:none;stroke-width:0.3985;stroke-linecap:butt;stroke-linejoin:miter;stroke:rgb(0%,0%,0%);stroke-opacity:1;stroke-miterlimit:10;\" d=\"M 28.614375 10.430469 L -28.616094 10.430469 C -30.815313 10.430469 -32.600469 8.645313 -32.600469 6.442188 L -32.600469 -6.444531 C -32.600469 -8.64375 -30.815313 -10.428906 -28.616094 -10.428906 L 28.614375 -10.428906 C 30.8175 -10.428906 32.59875 -8.64375 32.59875 -6.444531 L 32.59875 6.442188 C 32.59875 8.645313 30.8175 10.430469 28.614375 10.430469 Z M 28.614375 10.430469 \" transform=\"matrix(1,0,0,-1,249.495,124.075)\"/>\n",
       "</g>\n",
       "<g style=\"fill:rgb(0%,0%,0%);fill-opacity:1;\">\n",
       "  <use xlink:href=\"#glyph-1543859544656728-0-2\" x=\"220.217\" y=\"130.853\"/>\n",
       "  <use xlink:href=\"#glyph-1543859544656728-0-7\" x=\"229.143209\" y=\"130.853\"/>\n",
       "  <use xlink:href=\"#glyph-1543859544656728-0-4\" x=\"238.854593\" y=\"130.853\"/>\n",
       "  <use xlink:href=\"#glyph-1543859544656728-0-7\" x=\"253.958895\" y=\"130.853\"/>\n",
       "  <use xlink:href=\"#glyph-1543859544656728-0-5\" x=\"263.67028\" y=\"130.853\"/>\n",
       "  <use xlink:href=\"#glyph-1543859544656728-0-6\" x=\"269.063197\" y=\"130.853\"/>\n",
       "</g>\n",
       "<path style=\"fill-rule:nonzero;fill:rgb(100%,89.99939%,89.99939%);fill-opacity:1;stroke-width:0.3985;stroke-linecap:butt;stroke-linejoin:miter;stroke:rgb(0%,0%,0%);stroke-opacity:1;stroke-miterlimit:10;\" d=\"M 28.613531 10.430469 L -28.613031 10.430469 C -30.816156 10.430469 -32.601313 8.645313 -32.601313 6.442188 L -32.601313 -6.444531 C -32.601313 -8.64375 -30.816156 -10.428906 -28.613031 -10.428906 L 28.613531 -10.428906 C 30.816656 -10.428906 32.597906 -8.64375 32.597906 -6.444531 L 32.597906 6.442188 C 32.597906 8.645313 30.816656 10.430469 28.613531 10.430469 Z M 28.613531 10.430469 \" transform=\"matrix(1,0,0,-1,105.031,124.075)\"/>\n",
       "<g style=\"fill:rgb(0%,0%,0%);fill-opacity:1;\">\n",
       "  <use xlink:href=\"#glyph-1543859544656728-0-2\" x=\"75.752\" y=\"130.853\"/>\n",
       "  <use xlink:href=\"#glyph-1543859544656728-0-7\" x=\"84.678209\" y=\"130.853\"/>\n",
       "  <use xlink:href=\"#glyph-1543859544656728-0-4\" x=\"94.389593\" y=\"130.853\"/>\n",
       "  <use xlink:href=\"#glyph-1543859544656728-0-3\" x=\"109.493895\" y=\"130.853\"/>\n",
       "  <use xlink:href=\"#glyph-1543859544656728-0-5\" x=\"119.20528\" y=\"130.853\"/>\n",
       "  <use xlink:href=\"#glyph-1543859544656728-0-6\" x=\"124.598197\" y=\"130.853\"/>\n",
       "</g>\n",
       "<g clip-path=\"url(#clip-1543859544656728-3)\" clip-rule=\"nonzero\">\n",
       "<path style=\" stroke:none;fill-rule:nonzero;fill:rgb(89.99939%,89.99939%,100%);fill-opacity:1;\" d=\"M 278.109375 170.339844 L 220.878906 170.339844 C 218.679688 170.339844 216.894531 172.125 216.894531 174.324219 L 216.894531 187.210938 C 216.894531 189.414062 218.679688 191.195312 220.878906 191.195312 L 278.109375 191.195312 C 280.3125 191.195312 282.09375 189.414062 282.09375 187.210938 L 282.09375 174.324219 C 282.09375 172.125 280.3125 170.339844 278.109375 170.339844 Z M 278.109375 170.339844 \"/>\n",
       "</g>\n",
       "<g clip-path=\"url(#clip-1543859544656728-4)\" clip-rule=\"nonzero\">\n",
       "<path style=\"fill:none;stroke-width:0.3985;stroke-linecap:butt;stroke-linejoin:miter;stroke:rgb(0%,0%,0%);stroke-opacity:1;stroke-miterlimit:10;\" d=\"M 28.614375 10.428156 L -28.616094 10.428156 C -30.815313 10.428156 -32.600469 8.643 -32.600469 6.443781 L -32.600469 -6.442937 C -32.600469 -8.646062 -30.815313 -10.427312 -28.616094 -10.427312 L 28.614375 -10.427312 C 30.8175 -10.427312 32.59875 -8.646062 32.59875 -6.442937 L 32.59875 6.443781 C 32.59875 8.643 30.8175 10.428156 28.614375 10.428156 Z M 28.614375 10.428156 \" transform=\"matrix(1,0,0,-1,249.495,180.768)\"/>\n",
       "</g>\n",
       "<g style=\"fill:rgb(0%,0%,0%);fill-opacity:1;\">\n",
       "  <use xlink:href=\"#glyph-1543859544656728-0-2\" x=\"220.217\" y=\"187.546\"/>\n",
       "  <use xlink:href=\"#glyph-1543859544656728-0-8\" x=\"229.143209\" y=\"187.546\"/>\n",
       "  <use xlink:href=\"#glyph-1543859544656728-0-4\" x=\"238.854593\" y=\"187.546\"/>\n",
       "  <use xlink:href=\"#glyph-1543859544656728-0-6\" x=\"253.958895\" y=\"187.546\"/>\n",
       "  <use xlink:href=\"#glyph-1543859544656728-0-5\" x=\"263.67028\" y=\"187.546\"/>\n",
       "  <use xlink:href=\"#glyph-1543859544656728-0-6\" x=\"269.063197\" y=\"187.546\"/>\n",
       "</g>\n",
       "</g>\n",
       "</svg>\n",
       "\n"
      ],
      "text/plain": [
       "TikzPicture(\"\\\\graph [layered layout, ] {\\n1/\\\"R\\\" [draw, rounded corners, fill=blue!10,fill=blue!10],\\n2/\\\"x1=1.0\\\" [draw, rounded corners, fill=blue!10,fill=blue!10],\\n3/\\\"x1=0.0\\\" [draw, rounded corners, fill=blue!10,fill=red!10],\\n4/\\\"x2=2.0\\\" [draw, rounded corners, fill=blue!10,fill=blue!10],\\n5/\\\"x2=1.0\\\" [draw, rounded corners, fill=blue!10,fill=red!10],\\n6/\\\"x3=0.0\\\" [draw, rounded corners, fill=blue!10,fill=blue!10],\\n;\\n1 -- [,] 2;\\n1 -- [,] 3;\\n2 -- [,] 4;\\n2 -- [,] 5;\\n4 -- [,] 6;\\n};\\n\", \"scale=2, font=\\\\huge\\\\sf\", \"\\\\usepackage{fontspec}\\n\\\\setmainfont{Latin Modern Math}\\n\\\\usetikzlibrary{graphs}\\n\\\\usetikzlibrary{graphdrawing}\\n\\n% from: https://tex.stackexchange.com/questions/453132/fresh-install-of-tl2018-no-tikz-graph-drawing-libraries-found\\n\\\\usepackage{luacode}\\n\\\\begin{luacode*}\\n\\tfunction pgf_lookup_and_require(name)\\n\\tlocal sep = package.config:sub(1,1)\\n\\tlocal function lookup(name)\\n\\tlocal sub = name:gsub('%.',sep)  \\n\\tif kpse.find_file(sub, 'lua') then\\n\\trequire(name)\\n\\telseif kpse.find_file(sub, 'clua') then\\n\\tcollectgarbage('stop') \\n\\trequire(name)\\n\\tcollectgarbage('restart')\\n\\telse\\n\\treturn false\\n\\tend\\n\\treturn true\\n\\tend\\n\\treturn\\n\\tlookup('pgf.gd.' .. name .. '.library') or\\n\\tlookup('pgf.gd.' .. name) or\\n\\tlookup(name .. '.library') or\\n\\tlookup(name) \\n\\tend\\n\\\\end{luacode*}\\n\\n\\\\usegdlibrary{layered}\", true)"
      ]
     },
     "execution_count": 69,
     "metadata": {},
     "output_type": "execute_result"
    }
   ],
   "source": [
    "Int_Vars, Int_Vals = identify_INT_vars(cleanup_input(Parent.vars),Parent.vals)\n",
    "(Parent, Pruned) = expand!(Parent, G, Int_Vars, Int_Vals, g)\n",
    "if Parent != nothing\n",
    "    cols[Parent.ID] = \"fill=blue!10\"\n",
    "    push!(Node_List, Parent)\n",
    "else\n",
    "    println(\"No valid integer solution\")\n",
    "end\n",
    "    \n",
    "if Pruned != nothing\n",
    "    push!(Node_List, Parent)\n",
    "    Node_List[Pruned.ID] = Pruned\n",
    "end\n",
    "drawgraph(G, Node_List, cols)"
   ]
  },
  {
   "cell_type": "markdown",
   "metadata": {},
   "source": [
    "# Compare Timing With JuMP"
   ]
  },
  {
   "cell_type": "code",
   "execution_count": 20,
   "metadata": {},
   "outputs": [],
   "source": [
    "using JuMP\n",
    "using Mosek"
   ]
  },
  {
   "cell_type": "code",
   "execution_count": 26,
   "metadata": {},
   "outputs": [
    {
     "name": "stdout",
     "output_type": "stream",
     "text": [
      "Min Z\n",
      "Subject to\n",
      " x1 + x2 - Z ≤ 0\n",
      " 2 x3 - 6 x2 ≤ -10\n",
      " 4 x1 - 3 x3 ≥ 0\n",
      " 2 x1 - x2 ≥ 0\n",
      " x1 ≥ 0, integer\n",
      " x2 ≥ 0, integer\n",
      " x3 ≥ 0, integer\n",
      " Z ≥ 0\n",
      "Problem\n",
      "  Name                   :                 \n",
      "  Objective sense        : min             \n",
      "  Type                   : LO (linear optimization problem)\n",
      "  Constraints            : 4               \n",
      "  Cones                  : 0               \n",
      "  Scalar variables       : 4               \n",
      "  Matrix variables       : 0               \n",
      "  Integer variables      : 3               \n",
      "\n",
      "Optimizer started.\n",
      "Mixed integer optimizer started.\n",
      "Threads used: 4\n",
      "Presolve started.\n",
      "Presolve terminated. Time = 0.00\n",
      "Presolved problem: 0 variables, 0 constraints, 0 non-zeros\n",
      "Presolved problem: 0 general integer, 0 binary, 0 continuous\n",
      "Clique table size: 0\n",
      "BRANCHES RELAXS   ACT_NDS  DEPTH    BEST_INT_OBJ         BEST_RELAX_OBJ       REL_GAP(%)  TIME  \n",
      "0        1        0        0        3.0000000000e+00     3.0000000000e+00     0.00e+00    0.0   \n",
      "An optimal solution satisfying the relative gap tolerance of 1.00e-02(%) has been located.\n",
      "The relative gap is 0.00e+00(%).\n",
      "An optimal solution satisfying the absolute gap tolerance of 0.00e+00 has been located.\n",
      "The absolute gap is 0.00e+00.\n",
      "\n",
      "Objective of best integer solution : 3.000000000000e+00      \n",
      "Best objective bound               : 3.000000000000e+00      \n",
      "Construct solution objective       : Not employed\n",
      "Construct solution # roundings     : 0\n",
      "User objective cut value           : 0\n",
      "Number of cuts generated           : 0\n",
      "Number of branches                 : 0\n",
      "Number of relaxations solved       : 1\n",
      "Number of interior point iterations: 0\n",
      "Number of simplex iterations       : 0\n",
      "Time spend presolving the root     : 0.00\n",
      "Time spend in the heuristic        : 0.00\n",
      "Time spend in the sub optimizers   : 0.00\n",
      "  Time spend optimizing the root   : 0.00\n",
      "Mixed integer optimizer terminated. Time: 0.00\n",
      "\n",
      "Optimizer terminated. Time: 0.00    \n",
      "\n",
      "\n",
      "Integer solution solution summary\n",
      "  Problem status  : PRIMAL_FEASIBLE\n",
      "  Solution status : INTEGER_OPTIMAL\n",
      "  Primal.  obj: 3.0000000000e+00    nrm: 1e+01    Viol.  con: 0e+00    var: 0e+00    itg: 0e+00  \n",
      "Objective value: 3.0\n",
      "x1 = 1.0\n",
      "x2 = 2.0\n",
      "x3 = 0.0\n"
     ]
    }
   ],
   "source": [
    "m = Model(solver = MosekSolver())\n",
    "@variable(m, 0 <= x1 <= Inf,Int)\n",
    "@variable(m, 0 <= x2 <= Inf,Int)\n",
    "@variable(m, 0 <= x3 <= Inf,Int)\n",
    "@variable(m, 0 <= Z <= Inf)\n",
    "\n",
    "@objective(m, Min, Z )\n",
    "@constraint(m, x1+x2 <= Z )\n",
    "@constraint(m, 10 + 2x3 <= 6x2 )\n",
    "@constraint(m, 4x1 >= 3x3 )\n",
    "@constraint(m, 2x1 >= x2 )\n",
    "\n",
    "print(m)\n",
    "\n",
    "JuMP_Time = @elapsed status = solve(m)\n",
    "\n",
    "println(\"Objective value: \", getobjectivevalue(m))\n",
    "println(\"x1 = \", getvalue(x1))\n",
    "println(\"x2 = \", getvalue(x2))\n",
    "println(\"x3 = \", getvalue(x3))"
   ]
  },
  {
   "cell_type": "code",
   "execution_count": 37,
   "metadata": {},
   "outputs": [],
   "source": [
    "include(\"MIGP.jl\")\n",
    "@pyimport runGP"
   ]
  },
  {
   "cell_type": "code",
   "execution_count": 61,
   "metadata": {},
   "outputs": [
    {
     "data": {
      "text/plain": [
       "print_val (generic function with 1 method)"
      ]
     },
     "execution_count": 61,
     "metadata": {},
     "output_type": "execute_result"
    }
   ],
   "source": [
    "#Some output printing\n",
    "\n",
    "function print_val(var_name, var_list, value_list)\n",
    "    i = findfirst(x->occursin(var_name,x), var_list)\n",
    "    println(var_name*\": \"*string(value_list[i]))\n",
    "end"
   ]
  },
  {
   "cell_type": "code",
   "execution_count": 67,
   "metadata": {},
   "outputs": [
    {
     "name": "stdout",
     "output_type": "stream",
     "text": [
      "x1: 1.0\n",
      "x2: 2.0\n",
      "x3: 1.0000000000000024e-30\n",
      "Likely infeasible model at ['INT_x2']\n",
      " [1.]\n",
      "Likely infeasible model at ['INT_x2', 'INT_x3', 'INT_x1']\n",
      " [2.e+00 1.e-30 1.e-15]\n"
     ]
    }
   ],
   "source": [
    "pkg_name = \"mico_tests\"\n",
    "mod_name = \"Test1\"\n",
    "GP_Time = @elapsed out = solve_MIGP(runGP.run_GP, pkg_name, mod_name)\n",
    "\n",
    "print_val(\"x1\", out[1], out[2])\n",
    "print_val(\"x2\", out[1], out[2])\n",
    "print_val(\"x3\", out[1], out[2])"
   ]
  },
  {
   "cell_type": "markdown",
   "metadata": {},
   "source": [
    "Note that because geometric programming constraints are only convex under a logarithmic change of variables, zero is not a valid integer value, since log(0) = -$\\infty$.  Therefore, zero is replaced with a small positive number (10^-30), which has the same practical effect.  \n",
    "\n",
    "For more on how geometric programming constraints are solved, see https://docs.mosek.com/modeling-cookbook/expo.html#geometric-programming."
   ]
  },
  {
   "cell_type": "code",
   "execution_count": 68,
   "metadata": {},
   "outputs": [
    {
     "name": "stdout",
     "output_type": "stream",
     "text": [
      "JuMP_Time = 0.001681676\n",
      "GP_Time = 0.129456586\n"
     ]
    },
    {
     "data": {
      "text/plain": [
       "0.129456586"
      ]
     },
     "execution_count": 68,
     "metadata": {},
     "output_type": "execute_result"
    }
   ],
   "source": [
    "@show JuMP_Time\n",
    "@show GP_Time"
   ]
  },
  {
   "cell_type": "markdown",
   "metadata": {},
   "source": [
    "## If you can use JuMP (or linear programming) - you should!\n",
    "\n",
    "Solving this problem using a dedicated MILP solver is significantly faster.  However, we are interested in a class of problems not representably as a LP, or currently supported by JuMP. "
   ]
  },
  {
   "cell_type": "code",
   "execution_count": null,
   "metadata": {},
   "outputs": [],
   "source": []
  }
 ],
 "metadata": {
  "kernelspec": {
   "display_name": "Julia 1.0.0",
   "language": "julia",
   "name": "julia-1.0"
  },
  "language_info": {
   "file_extension": ".jl",
   "mimetype": "application/julia",
   "name": "julia",
   "version": "1.0.0"
  }
 },
 "nbformat": 4,
 "nbformat_minor": 2
}
