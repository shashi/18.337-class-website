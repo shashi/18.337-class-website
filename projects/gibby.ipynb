{
 "cells": [
  {
   "cell_type": "markdown",
   "metadata": {},
   "source": [
    "# Adversarial Julia Demo\n",
    "## Load the modules"
   ]
  },
  {
   "cell_type": "code",
   "execution_count": 44,
   "metadata": {},
   "outputs": [
    {
     "name": "stderr",
     "output_type": "stream",
     "text": [
      "WARNING: replacing module adv.\n"
     ]
    },
    {
     "data": {
      "text/plain": [
       "Main.adv"
      ]
     },
     "execution_count": 44,
     "metadata": {},
     "output_type": "execute_result"
    }
   ],
   "source": [
    "import Missings\n",
    "using CSV\n",
    "using Knet\n",
    "using Plots\n",
    "using Images, Colors\n",
    "using Statistics\n",
    "using StatsBase\n",
    "include(\"Adversarial.jl\")"
   ]
  },
  {
   "cell_type": "markdown",
   "metadata": {},
   "source": [
    "## Load the data"
   ]
  },
  {
   "cell_type": "code",
   "execution_count": 32,
   "metadata": {},
   "outputs": [
    {
     "data": {
      "text/plain": [
       "(Data(Float32[0.0 0.0 … 0.0 0.0; 0.0 0.0 … 0.0 0.0; … ; 0.0 0.0 … 0.0 0.0; 0.0 0.0 … 0.0 0.0], UInt8[0x05 0x0a … 0x06 0x08], 100, 60000, false, 1:60000, false, (784, Colon()), (60000,), Array{Float32,N} where N, Array{UInt8,1}), Data(Float32[0.0 0.0 … 0.0 0.0; 0.0 0.0 … 0.0 0.0; … ; 0.0 0.0 … 0.0 0.0; 0.0 0.0 … 0.0 0.0], UInt8[0x07 0x02 … 0x05 0x06], 100, 10000, false, 1:10000, false, (784, Colon()), (10000,), Array{Float32,N} where N, Array{UInt8,1}))"
      ]
     },
     "execution_count": 32,
     "metadata": {},
     "output_type": "execute_result"
    }
   ],
   "source": [
    "include(Knet.dir(\"data\",\"mnist.jl\"))\n",
    "xsize=784\n",
    "ysize=10\n",
    "train, test = mnistdata(xsize=(xsize,:))"
   ]
  },
  {
   "cell_type": "markdown",
   "metadata": {},
   "source": [
    "## Initialize and train an MLP"
   ]
  },
  {
   "cell_type": "code",
   "execution_count": 33,
   "metadata": {},
   "outputs": [
    {
     "name": "stdout",
     "output_type": "stream",
     "text": [
      "adv.accuracy(model, test) = 0.1427\n",
      " 38.570436 seconds (10.93 M allocations: 28.193 GiB, 6.87% gc time)\n"
     ]
    },
    {
     "data": {
      "text/plain": [
       "0.978"
      ]
     },
     "execution_count": 33,
     "metadata": {},
     "output_type": "execute_result"
    }
   ],
   "source": [
    "vals = (784, 64, 10)\n",
    "model = adv.MLP(vals...)\n",
    "@show adv.accuracy(model, test)\n",
    "@time adv.trainresults(model, train; pdrop=(0.2, 0.0))\n",
    "accuracy(model, test)"
   ]
  },
  {
   "cell_type": "markdown",
   "metadata": {},
   "source": [
    "## Load the test set"
   ]
  },
  {
   "cell_type": "code",
   "execution_count": 34,
   "metadata": {},
   "outputs": [],
   "source": [
    "examples = []\n",
    "for (x,y) in test\n",
    "    push!(examples, (x,y))\n",
    "end"
   ]
  },
  {
   "cell_type": "markdown",
   "metadata": {},
   "source": [
    "## Run an adversarial attack against the trained model on the test set"
   ]
  },
  {
   "cell_type": "code",
   "execution_count": 48,
   "metadata": {},
   "outputs": [
    {
     "name": "stdout",
     "output_type": "stream",
     "text": [
      "The sample is a 7\n",
      "The model classifies it as a 3 with a distance of 7.840000000000003 from the original\n"
     ]
    }
   ],
   "source": [
    "# Choose a distance metric (recommended adv.L2_dist and adv.DSSIM)\n",
    "dist = adv.L2_dist\n",
    "# Initialize an attack algorithm with the desired parameters\n",
    "# Attacks include:\n",
    "# adv.adv_fast_gradient_sign\n",
    "# adv.adv_iterative_gradient_sign\n",
    "# adv.adv_LBFGS\n",
    "# adv.adv_fast_LBFGS\n",
    "# adv.JSMA\n",
    "# adv.adv_carlini_wagner\n",
    "# See function documentation in Adversarial.jl for more details on each function\n",
    "g(x0, model, target) = adv.adv_fast_gradient_sign(x0, model, target; ϵ=.1)\n",
    "\n",
    "example = examples[1]\n",
    "x0 = example[1][:, 1]\n",
    "y0 = example[2][1]\n",
    "println(\"The sample is a $y0\")\n",
    "target = 3\n",
    "\n",
    "x1 = g(x0, model, target)\n",
    "\n",
    "pred = adv.predict_class(model, x1)\n",
    "dist = dist(x1, x0)\n",
    "println(\"The model classifies it as a $pred with a distance of $dist from the original\")"
   ]
  },
  {
   "cell_type": "markdown",
   "metadata": {},
   "source": [
    "## Display the original and adversarial images"
   ]
  },
  {
   "cell_type": "code",
   "execution_count": 49,
   "metadata": {},
   "outputs": [
    {
     "data": {
      "image/png": "[encoded data removed]",
      "text/plain": [
       "28×28 Array{Gray{Float32},2} with eltype Gray{Float32}:\n",
       " Gray{Float32}(0.0)  Gray{Float32}(0.0)  …  Gray{Float32}(0.0)\n",
       " Gray{Float32}(0.0)  Gray{Float32}(0.0)     Gray{Float32}(0.0)\n",
       " Gray{Float32}(0.0)  Gray{Float32}(0.0)     Gray{Float32}(0.0)\n",
       " Gray{Float32}(0.0)  Gray{Float32}(0.0)     Gray{Float32}(0.0)\n",
       " Gray{Float32}(0.0)  Gray{Float32}(0.0)     Gray{Float32}(0.0)\n",
       " Gray{Float32}(0.0)  Gray{Float32}(0.0)  …  Gray{Float32}(0.0)\n",
       " Gray{Float32}(0.0)  Gray{Float32}(0.0)     Gray{Float32}(0.0)\n",
       " Gray{Float32}(0.0)  Gray{Float32}(0.0)     Gray{Float32}(0.0)\n",
       " Gray{Float32}(0.0)  Gray{Float32}(0.0)     Gray{Float32}(0.0)\n",
       " Gray{Float32}(0.0)  Gray{Float32}(0.0)     Gray{Float32}(0.0)\n",
       " Gray{Float32}(0.0)  Gray{Float32}(0.0)  …  Gray{Float32}(0.0)\n",
       " Gray{Float32}(0.0)  Gray{Float32}(0.0)     Gray{Float32}(0.0)\n",
       " Gray{Float32}(0.0)  Gray{Float32}(0.0)     Gray{Float32}(0.0)\n",
       " ⋮                                       ⋱                    \n",
       " Gray{Float32}(0.0)  Gray{Float32}(0.0)     Gray{Float32}(0.0)\n",
       " Gray{Float32}(0.0)  Gray{Float32}(0.0)     Gray{Float32}(0.0)\n",
       " Gray{Float32}(0.0)  Gray{Float32}(0.0)     Gray{Float32}(0.0)\n",
       " Gray{Float32}(0.0)  Gray{Float32}(0.0)     Gray{Float32}(0.0)\n",
       " Gray{Float32}(0.0)  Gray{Float32}(0.0)  …  Gray{Float32}(0.0)\n",
       " Gray{Float32}(0.0)  Gray{Float32}(0.0)     Gray{Float32}(0.0)\n",
       " Gray{Float32}(0.0)  Gray{Float32}(0.0)     Gray{Float32}(0.0)\n",
       " Gray{Float32}(0.0)  Gray{Float32}(0.0)     Gray{Float32}(0.0)\n",
       " Gray{Float32}(0.0)  Gray{Float32}(0.0)     Gray{Float32}(0.0)\n",
       " Gray{Float32}(0.0)  Gray{Float32}(0.0)  …  Gray{Float32}(0.0)\n",
       " Gray{Float32}(0.0)  Gray{Float32}(0.0)     Gray{Float32}(0.0)\n",
       " Gray{Float32}(0.0)  Gray{Float32}(0.0)     Gray{Float32}(0.0)"
      ]
     },
     "execution_count": 49,
     "metadata": {},
     "output_type": "execute_result"
    }
   ],
   "source": [
    "L = Int(√(length(x1)))\n",
    "img1 = reshape(x0, (L,L))'\n",
    "Gray.(img1)"
   ]
  },
  {
   "cell_type": "code",
   "execution_count": 50,
   "metadata": {},
   "outputs": [
    {
     "data": {
      "image/png": "[encoded data removed]",
      "text/plain": [
       "28×28 Array{Gray{Float64},2} with eltype Gray{Float64}:\n",
       " Gray{Float64}(0.1)   Gray{Float64}(-0.1)  …  Gray{Float64}(-0.1)\n",
       " Gray{Float64}(0.1)   Gray{Float64}(-0.1)     Gray{Float64}(0.1) \n",
       " Gray{Float64}(-0.1)  Gray{Float64}(-0.1)     Gray{Float64}(-0.1)\n",
       " Gray{Float64}(0.1)   Gray{Float64}(-0.1)     Gray{Float64}(-0.1)\n",
       " Gray{Float64}(-0.1)  Gray{Float64}(0.1)      Gray{Float64}(0.1) \n",
       " Gray{Float64}(-0.1)  Gray{Float64}(-0.1)  …  Gray{Float64}(-0.1)\n",
       " Gray{Float64}(-0.1)  Gray{Float64}(-0.1)     Gray{Float64}(0.1) \n",
       " Gray{Float64}(-0.1)  Gray{Float64}(0.1)      Gray{Float64}(0.1) \n",
       " Gray{Float64}(0.1)   Gray{Float64}(-0.1)     Gray{Float64}(-0.1)\n",
       " Gray{Float64}(0.1)   Gray{Float64}(-0.1)     Gray{Float64}(-0.1)\n",
       " Gray{Float64}(-0.1)  Gray{Float64}(0.1)   …  Gray{Float64}(0.1) \n",
       " Gray{Float64}(-0.1)  Gray{Float64}(-0.1)     Gray{Float64}(0.1) \n",
       " Gray{Float64}(0.1)   Gray{Float64}(0.1)      Gray{Float64}(-0.1)\n",
       " ⋮                                         ⋱                     \n",
       " Gray{Float64}(-0.1)  Gray{Float64}(0.1)      Gray{Float64}(0.1) \n",
       " Gray{Float64}(-0.1)  Gray{Float64}(-0.1)     Gray{Float64}(-0.1)\n",
       " Gray{Float64}(-0.1)  Gray{Float64}(0.1)      Gray{Float64}(-0.1)\n",
       " Gray{Float64}(-0.1)  Gray{Float64}(-0.1)     Gray{Float64}(-0.1)\n",
       " Gray{Float64}(0.1)   Gray{Float64}(0.1)   …  Gray{Float64}(0.1) \n",
       " Gray{Float64}(0.1)   Gray{Float64}(-0.1)     Gray{Float64}(-0.1)\n",
       " Gray{Float64}(0.1)   Gray{Float64}(-0.1)     Gray{Float64}(0.1) \n",
       " Gray{Float64}(-0.1)  Gray{Float64}(-0.1)     Gray{Float64}(0.1) \n",
       " Gray{Float64}(-0.1)  Gray{Float64}(0.1)      Gray{Float64}(-0.1)\n",
       " Gray{Float64}(0.1)   Gray{Float64}(-0.1)  …  Gray{Float64}(-0.1)\n",
       " Gray{Float64}(-0.1)  Gray{Float64}(0.1)      Gray{Float64}(-0.1)\n",
       " Gray{Float64}(-0.1)  Gray{Float64}(0.1)      Gray{Float64}(0.1) "
      ]
     },
     "execution_count": 50,
     "metadata": {},
     "output_type": "execute_result"
    }
   ],
   "source": [
    "img2 = reshape(x1, (L, L))'\n",
    "Gray.(img2)"
   ]
  },
  {
   "cell_type": "markdown",
   "metadata": {},
   "source": [
    "## Run large scale tests and plot the success rates"
   ]
  },
  {
   "cell_type": "code",
   "execution_count": 30,
   "metadata": {},
   "outputs": [
    {
     "data": {
      "image/png": "[encoded data removed]"
     },
     "execution_count": 30,
     "metadata": {},
     "output_type": "execute_result"
    }
   ],
   "source": [
    "# This will run very slowly for adv.adv_LBFGS\n",
    "g(x0, model, target) = adv.adv_iterative_gradient_sign(x0, model, target; ϵ=15)\n",
    "success_rates = []\n",
    "for i in 1:50\n",
    "    append!(success_rates, adv.targetted_test(model, examples; alg=g))\n",
    "end\n",
    "histogram(success_rates, fmt=:png)"
   ]
  },
  {
   "cell_type": "code",
   "execution_count": null,
   "metadata": {},
   "outputs": [],
   "source": []
  },
  {
   "cell_type": "code",
   "execution_count": null,
   "metadata": {},
   "outputs": [],
   "source": []
  }
 ],
 "metadata": {
  "kernelspec": {
   "display_name": "Julia 1.0.0",
   "language": "julia",
   "name": "julia-1.0"
  },
  "language_info": {
   "file_extension": ".jl",
   "mimetype": "application/julia",
   "name": "julia",
   "version": "1.0.0"
  }
 },
 "nbformat": 4,
 "nbformat_minor": 2
}
