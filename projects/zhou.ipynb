{
 "cells": [
  {
   "cell_type": "markdown",
   "metadata": {},
   "source": [
    "This file contains the following contents.\n",
    "\n",
    "First, it defines a MyFloat64. The four arithmetic operations based on two MyFloat64 will be counted. The way to use it is `@analyzeMyFloat`. \n",
    "\n",
    "Second, we define a similar `@analyze` macro, that counts arithmetic operations between any types. \n",
    "\n",
    "Finally, we define the `estimateComplexity` function. Given a single argument function `f` to `estimateComplexity`, `estimateComplexity(f)` outputs a number `e` such that $n^c$ is an estimated complexity of `f`. "
   ]
  },
  {
   "cell_type": "code",
   "execution_count": 1,
   "metadata": {},
   "outputs": [],
   "source": [
    "# A custom type that can be used to count the number of \n",
    "# each operations.\n",
    "#\n",
    "struct MyFloat64\n",
    "    v::Float64\n",
    "end"
   ]
  },
  {
   "cell_type": "code",
   "execution_count": 2,
   "metadata": {},
   "outputs": [
    {
     "data": {
      "text/plain": [
       "1"
      ]
     },
     "execution_count": 2,
     "metadata": {},
     "output_type": "execute_result"
    }
   ],
   "source": [
    "const a = 1"
   ]
  },
  {
   "cell_type": "code",
   "execution_count": 3,
   "metadata": {},
   "outputs": [],
   "source": [
    "import Base: +, *, -, /"
   ]
  },
  {
   "cell_type": "code",
   "execution_count": 4,
   "metadata": {},
   "outputs": [
    {
     "data": {
      "text/plain": [
       "+ (generic function with 166 methods)"
      ]
     },
     "execution_count": 4,
     "metadata": {},
     "output_type": "execute_result"
    }
   ],
   "source": [
    "# We redefine addition for this type, and increment\n",
    "# the counter each time we do addition.\n",
    "#\n",
    "AdditionCounter = 0\n",
    "function +(a::MyFloat64, b::MyFloat64)\n",
    "    global AdditionCounter += 1\n",
    "    MyFloat64(a.v + b.v)\n",
    "end\n",
    "function +(a::Any, b::MyFloat64)\n",
    "    global AdditionCounter += 1\n",
    "    MyFloat64(a + b.v)\n",
    "end\n",
    "function +(a::MyFloat64, b::Any)\n",
    "    global AdditionCounter += 1\n",
    "    MyFloat64(a.v + b)\n",
    "end"
   ]
  },
  {
   "cell_type": "code",
   "execution_count": 5,
   "metadata": {},
   "outputs": [
    {
     "data": {
      "text/plain": [
       "- (generic function with 178 methods)"
      ]
     },
     "execution_count": 5,
     "metadata": {},
     "output_type": "execute_result"
    }
   ],
   "source": [
    "SubtractionCounter = 0\n",
    "function -(a::MyFloat64, b::MyFloat64)\n",
    "    global SubtractionCounter += 1\n",
    "    MyFloat64(a.v - b.v)\n",
    "end\n",
    "function -(a::Any, b::MyFloat64)\n",
    "    global SubtractionCounter += 1\n",
    "    MyFloat64(a - b.v)\n",
    "end\n",
    "function -(a::MyFloat64, b::Any)\n",
    "    global SubtractionCounter += 1\n",
    "    MyFloat64(a.v - b)\n",
    "end"
   ]
  },
  {
   "cell_type": "code",
   "execution_count": 6,
   "metadata": {},
   "outputs": [
    {
     "data": {
      "text/plain": [
       "* (generic function with 346 methods)"
      ]
     },
     "execution_count": 6,
     "metadata": {},
     "output_type": "execute_result"
    }
   ],
   "source": [
    "MultiplicationCounter = 0\n",
    "function *(a::MyFloat64, b::MyFloat64)\n",
    "    global MultiplicationCounter += 1\n",
    "    MyFloat64(a.v * b.v)\n",
    "end\n",
    "function *(a::Any, b::MyFloat64)\n",
    "#     global MultiplicationCounter += 1\n",
    "    MyFloat64(a * b.v)\n",
    "end\n",
    "function *(a::MyFloat64, b::Any)\n",
    "#     global MultiplicationCounter += 1\n",
    "    MyFloat64(a.v * b)\n",
    "end"
   ]
  },
  {
   "cell_type": "code",
   "execution_count": 7,
   "metadata": {},
   "outputs": [
    {
     "data": {
      "text/plain": [
       "/ (generic function with 107 methods)"
      ]
     },
     "execution_count": 7,
     "metadata": {},
     "output_type": "execute_result"
    }
   ],
   "source": [
    "DivisionCounter = 0\n",
    "function /(a::MyFloat64, b::MyFloat64)\n",
    "    global DivisionCounter += 1\n",
    "    MyFloat64(a.v / b.v)\n",
    "end\n",
    "function /(a::Any, b::MyFloat64)\n",
    "    global DivisionCounter += 1\n",
    "    MyFloat64(a / b.v)\n",
    "end\n",
    "function /(a::MyFloat64, b::Any)\n",
    "    global DivisionCounter += 1\n",
    "    MyFloat64(a.v / b)\n",
    "end"
   ]
  },
  {
   "cell_type": "code",
   "execution_count": 8,
   "metadata": {},
   "outputs": [
    {
     "data": {
      "text/plain": [
       "@analyzeMyFloat (macro with 1 method)"
      ]
     },
     "execution_count": 8,
     "metadata": {},
     "output_type": "execute_result"
    }
   ],
   "source": [
    "# Define the @analyzeMyFloat macro. \n",
    "#\n",
    "macro analyzeMyFloat(ex)\n",
    "    global AdditionCounter = 0\n",
    "    global SubtractionCounter = 0\n",
    "    global MultiplicationCounter = 0\n",
    "    global DivisionCounter = 0\n",
    "    result = eval(ex)\n",
    "    println(\"Number of additions: \", AdditionCounter)\n",
    "    println(\"Number of subtractions: \", SubtractionCounter)\n",
    "    println(\"Number of multiplications: \", MultiplicationCounter)\n",
    "    println(\"Number of divisions: \", DivisionCounter)\n",
    "    return result\n",
    "end"
   ]
  },
  {
   "cell_type": "code",
   "execution_count": 9,
   "metadata": {},
   "outputs": [],
   "source": [
    "# Some simple tests.\n",
    "#\n",
    "# @analyzeMyFloat MyFloat64(1.0) + MyFloat64(2.0)"
   ]
  },
  {
   "cell_type": "code",
   "execution_count": 10,
   "metadata": {
    "scrolled": true
   },
   "outputs": [],
   "source": [
    "# @analyzeMyFloat MyFloat64(1.0) - MyFloat64(2.0)"
   ]
  },
  {
   "cell_type": "code",
   "execution_count": 11,
   "metadata": {},
   "outputs": [],
   "source": [
    "# @analyzeMyFloat MyFloat64(1.0) * MyFloat64(2.0)"
   ]
  },
  {
   "cell_type": "code",
   "execution_count": 12,
   "metadata": {},
   "outputs": [],
   "source": [
    "# @analyzeMyFloat MyFloat64(1.0) / MyFloat64(2.0)"
   ]
  },
  {
   "cell_type": "code",
   "execution_count": 13,
   "metadata": {},
   "outputs": [],
   "source": [
    "# A = [MyFloat64(1) MyFloat64(2) MyFloat64(3); MyFloat64(1) MyFloat64(2) MyFloat64(3); MyFloat64(1) MyFloat64(2) MyFloat64(3)]"
   ]
  },
  {
   "cell_type": "code",
   "execution_count": 14,
   "metadata": {},
   "outputs": [],
   "source": [
    "# B = [MyFloat64(1) MyFloat64(2) MyFloat64(3); MyFloat64(1) MyFloat64(2) MyFloat64(3); MyFloat64(1) MyFloat64(2) MyFloat64(3)]"
   ]
  },
  {
   "cell_type": "code",
   "execution_count": 15,
   "metadata": {},
   "outputs": [],
   "source": [
    "# @analyzeMyFloat A*B"
   ]
  },
  {
   "cell_type": "code",
   "execution_count": 16,
   "metadata": {},
   "outputs": [],
   "source": [
    "# @analyzeMyFloat A+B"
   ]
  },
  {
   "cell_type": "code",
   "execution_count": 17,
   "metadata": {},
   "outputs": [],
   "source": [
    "# @analyzeMyFloat A-B"
   ]
  },
  {
   "cell_type": "code",
   "execution_count": 18,
   "metadata": {},
   "outputs": [],
   "source": [
    "# B = [1 2 3; 4 5 6; 7 8 9]"
   ]
  },
  {
   "cell_type": "code",
   "execution_count": 19,
   "metadata": {},
   "outputs": [],
   "source": [
    "# @analyzeMyFloat A+B"
   ]
  },
  {
   "cell_type": "code",
   "execution_count": 20,
   "metadata": {},
   "outputs": [],
   "source": [
    "# @analyzeMyFloat A-B"
   ]
  },
  {
   "cell_type": "code",
   "execution_count": 21,
   "metadata": {},
   "outputs": [],
   "source": [
    "# @analyzeMyFloat A*B"
   ]
  },
  {
   "cell_type": "code",
   "execution_count": 22,
   "metadata": {},
   "outputs": [],
   "source": [
    "# @analyzeMyFloat B+A"
   ]
  },
  {
   "cell_type": "code",
   "execution_count": 23,
   "metadata": {},
   "outputs": [],
   "source": [
    "# @analyzeMyFloat B*A"
   ]
  },
  {
   "cell_type": "code",
   "execution_count": 24,
   "metadata": {},
   "outputs": [],
   "source": [
    "# @analyzeMyFloat B-A"
   ]
  },
  {
   "cell_type": "code",
   "execution_count": 25,
   "metadata": {},
   "outputs": [],
   "source": [
    "# We use Cassette library to track the calls to functions.\n",
    "using Cassette"
   ]
  },
  {
   "cell_type": "code",
   "execution_count": 26,
   "metadata": {},
   "outputs": [
    {
     "data": {
      "text/plain": [
       "Cassette.Context{nametype(TraceCtx),M,P,T,B} where B<:Union{Nothing, IdDict{Module,Dict{Symbol,BindingMeta}}} where P<:Cassette.AbstractPass where T<:Union{Nothing, Tag} where M"
      ]
     },
     "execution_count": 26,
     "metadata": {},
     "output_type": "execute_result"
    }
   ],
   "source": [
    "Cassette.@context TraceCtx"
   ]
  },
  {
   "cell_type": "code",
   "execution_count": 27,
   "metadata": {},
   "outputs": [
    {
     "data": {
      "text/plain": [
       "Dict{Any,Any} with 0 entries"
      ]
     },
     "execution_count": 27,
     "metadata": {},
     "output_type": "execute_result"
    }
   ],
   "source": [
    "const callerCounter = Dict()"
   ]
  },
  {
   "cell_type": "code",
   "execution_count": 28,
   "metadata": {},
   "outputs": [],
   "source": [
    "# overwrite the Cassette execute function.\n",
    "function Cassette.execute(ctx::TraceCtx, args...)\n",
    "    subtrace = Any[]\n",
    "    tmp = (args => subtrace)[1][1]\n",
    "    if (get(callerCounter, tmp, -1) != -1)\n",
    "        callerCounter[tmp] += 1\n",
    "    end\n",
    "    if Cassette.canoverdub(ctx, args...)\n",
    "        newctx = Cassette.similarcontext(ctx, metadata = subtrace)\n",
    "        return Cassette.overdub(newctx, args...)\n",
    "    else\n",
    "        return Cassette.fallback(ctx, args...)\n",
    "    end\n",
    "end"
   ]
  },
  {
   "cell_type": "code",
   "execution_count": 29,
   "metadata": {},
   "outputs": [
    {
     "data": {
      "text/plain": [
       "@analyze (macro with 1 method)"
      ]
     },
     "execution_count": 29,
     "metadata": {},
     "output_type": "execute_result"
    }
   ],
   "source": [
    "# Define the @analyze macro. \n",
    "#\n",
    "macro analyze(ex)\n",
    "    callerCounter[+] = 0\n",
    "    callerCounter[-] = 0\n",
    "    callerCounter[*] = 0\n",
    "    callerCounter[/] = 0\n",
    "    result = :(trace = Any[];\n",
    "    Cassette.@overdub(TraceCtx(metadata = trace), $(esc(ex)));\n",
    "    println(\"Number of additions: \", get(callerCounter, +, 0));\n",
    "    println(\"Number of subtractions: \", get(callerCounter, -, 0));\n",
    "    println(\"Number of multiplications: \", get(callerCounter, *, 0));\n",
    "    println(\"Number of divisions: \", get(callerCounter, /, 0)))\n",
    "    return result\n",
    "end"
   ]
  },
  {
   "cell_type": "markdown",
   "metadata": {},
   "source": [
    "Now we start to define the estimateComplexity function. "
   ]
  },
  {
   "cell_type": "code",
   "execution_count": 31,
   "metadata": {},
   "outputs": [
    {
     "data": {
      "text/plain": [
       "loss (generic function with 1 method)"
      ]
     },
     "execution_count": 31,
     "metadata": {},
     "output_type": "execute_result"
    }
   ],
   "source": [
    "# This is the loss function we use to estimate the quality of an estimated complexity. It is defined by \n",
    "# \\sum_{i} (cnts[i] - c(i^e))^2\n",
    "function loss(c, e, cnts)\n",
    "    tot = 0\n",
    "    for i=1:size(cnts)[1]\n",
    "        tot += abs2(cnts[i] - c * (i ^ e))\n",
    "    end\n",
    "    return tot\n",
    "end"
   ]
  },
  {
   "cell_type": "code",
   "execution_count": 32,
   "metadata": {},
   "outputs": [
    {
     "data": {
      "text/plain": [
       "estimateComplexity (generic function with 2 methods)"
      ]
     },
     "execution_count": 32,
     "metadata": {},
     "output_type": "execute_result"
    }
   ],
   "source": [
    "# Fix the exponent e, we can calculate the value of c that minimizes loss(c, e, cnts).\n",
    "# \n",
    "function minimizer(e, cnts)\n",
    "    a = 0\n",
    "    b = 0\n",
    "    for i=1:size(cnts)[1]\n",
    "        a += (i^e * cnts[i])\n",
    "        b += i^(2*e)\n",
    "    end\n",
    "    c = a / b\n",
    "    return loss(c, e, cnts)\n",
    "end\n",
    "\n",
    "function estimateComplexity(f, terms=20)\n",
    "    cnts = zeros(terms)\n",
    "    for n=1:terms\n",
    "        trace = Any[]\n",
    "        callerCounter[+] = 0\n",
    "        callerCounter[-] = 0\n",
    "        callerCounter[*] = 0\n",
    "        callerCounter[/] = 0\n",
    "        Cassette.@overdub(TraceCtx(metadata = trace), f(n))\n",
    "        cnts[n] = callerCounter[+] + callerCounter[-] + callerCounter[*] + callerCounter[/] \n",
    "    end\n",
    "    # We enumerate all values of e up to some granularity.\n",
    "    beste = 0.1\n",
    "    bestval = minimizer(0.1, cnts)\n",
    "    for i = 0:1000\n",
    "        tmp = minimizer(i / 100.0 + 0.1, cnts)\n",
    "        if (tmp < bestval)\n",
    "            bestval = tmp\n",
    "            beste = i / 100.0 + 0.1\n",
    "        end\n",
    "    end\n",
    "    println(beste)\n",
    "end"
   ]
  },
  {
   "cell_type": "markdown",
   "metadata": {},
   "source": [
    "# Reference\n",
    "\n",
    "Packages: Cassette"
   ]
  },
  {
   "cell_type": "code",
   "execution_count": null,
   "metadata": {},
   "outputs": [],
   "source": []
  }
 ],
 "metadata": {
  "kernelspec": {
   "display_name": "Julia 1.0.0",
   "language": "julia",
   "name": "julia-1.0"
  },
  "language_info": {
   "file_extension": ".jl",
   "mimetype": "application/julia",
   "name": "julia",
   "version": "1.0.0"
  }
 },
 "nbformat": 4,
 "nbformat_minor": 2
}
