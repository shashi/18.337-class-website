{
 "cells": [
  {
   "cell_type": "code",
   "execution_count": 1,
   "metadata": {},
   "outputs": [],
   "source": [
    "# All dependencies are included here\n",
    "using PyPlot, NLsolve, LinearAlgebra, BenchmarkTools, SparseArrays, Arpack\n",
    "# NLsolve is a key player in all of the routines here, and so I encourage you to read: \n",
    "# https://github.com/JuliaNLSolvers/NLsolve.jl"
   ]
  },
  {
   "cell_type": "code",
   "execution_count": 2,
   "metadata": {},
   "outputs": [],
   "source": [
    "# Fundamental constants (these are in \"atomic units\")\n",
    "# https://en.wikipedia.org/wiki/Atomic_units\n",
    "const c = 137.0; # speed of light\n",
    "const ħ = 1.0; # planck constant\n",
    "const ϵ0 = 1.0/4.0/pi; # permittivity of free space\n",
    "const me = 1.0; # electron mass\n",
    "const qe = 1.0; # electron charge\n",
    "const nm = 18.904; # a nanometer in units of bohr radii\n",
    "const μm = 18904.0; # a micrometer in units of bohr radii\n",
    "const a0 = 5.29e-11; # bohr radius in SI units\n",
    "const hartree_ev = 27.3114; # converts atomic unit energies to electron volts\n",
    "const ev_hartree = 1.0/27.3114; # converts atomic unit energies to electron volts\n",
    "const rads_ev = 1/(1.52e15); # converts frequency in radians/sec to electron volt energies\n",
    "const ev_rads = 1.52e15; # converts electron volt energies to frequency in radians/sec"
   ]
  },
  {
   "cell_type": "markdown",
   "metadata": {},
   "source": [
    "## Data structures for electrons and photons "
   ]
  },
  {
   "cell_type": "code",
   "execution_count": 3,
   "metadata": {},
   "outputs": [],
   "source": [
    "# The first struct constructs the 'electron class', working in the \"velocity gauge\" where\n",
    "# momentum operators are important, while the second constructs the electron class in the \n",
    "# \"length gauge\", where position operators are important.\n",
    "\n",
    "struct electronic\n",
    "    N::Int64 # spectral dimension of the full hilbert space (vector space) describing the electron\n",
    "    Nred::Int64 # spectral dimension of truncated hilbert space (i.e., number of eigenvecs retained in computations)\n",
    "    H0::Matrix # matter Hamiltonian\n",
    "    p::Matrix # momentum operator\n",
    "    X::Array # a vector which holds all the eigenvectors and eigenvalues\n",
    "end\n",
    "\n",
    "struct electronic_r\n",
    "    N::Int64 # spectral dimension \n",
    "    Nred::Int64 # spectral dimension of truncated hilbert space (i.e., number of eigenvecs retained in computations)\n",
    "    H0::Matrix # matter Hamiltonian\n",
    "    r::Matrix # position\n",
    "    X::Array\n",
    "end\n",
    "\n",
    "# This struct below constructs the 'photon class', which refers to any kind of electromagnetic quanta essentially.\n",
    "\n",
    "struct photonic\n",
    "    N::Int64 # spectral dimension \n",
    "    d::Int64 # polarization vector dimension\n",
    "    freqs::Vector # frequencies of modes 1 to N    \n",
    "    modes::Array # photonic modes in absence of matter. rows are now components, columns are mode #\n",
    "end"
   ]
  },
  {
   "cell_type": "markdown",
   "metadata": {},
   "source": [
    "## Green's functions for the photon, written in spectral representation"
   ]
  },
  {
   "cell_type": "markdown",
   "metadata": {},
   "source": [
    "Given a spectral decomposition of the solutions of Maxwell's equations in terms of a complete and orthonormal set of vector modes $\\mathbf{F}_n(\\mathbf{r})$ with mode frequencies $\\omega_n$, the spectral representation of the green's function is given by:\n",
    "\n",
    "\\begin{equation}\n",
    "\\mathbf{G}(\\mathbf{r},\\mathbf{r}',\\omega) = c^2\\sum\\limits_{n} \\frac{\\mathbf{F}^*(\\mathbf{r})\\otimes\\mathbf{F}(\\mathbf{r}')}{\\omega_n^2-\\omega^2-i\\epsilon},\n",
    "\\end{equation}\n",
    "\n",
    "with $\\epsilon$ a positive infinitesimal to enforce outgoing boundary conditions. These green's functions are used in the routine that calculates the response of the interacting electromagnetic field to a probe dipole."
   ]
  },
  {
   "cell_type": "code",
   "execution_count": 12,
   "metadata": {},
   "outputs": [
    {
     "data": {
      "text/plain": [
       "green2! (generic function with 1 method)"
      ]
     },
     "execution_count": 12,
     "metadata": {},
     "output_type": "execute_result"
    }
   ],
   "source": [
    "function green!(i,j,ω,P::photonic,G=0.0)\n",
    "    # for now, positions pos1 and pos2 is going to be an integer index, which requires some input from the user\n",
    "    # for lower dimensional cases where G will be 1 or 2 components, just set other components to zero. That works.\n",
    "    spec_dim = P.N;\n",
    "    for counter = 1:spec_dim\n",
    "               G += conj(P.modes[i,counter])*(P.modes[j,counter])/((P.freqs[counter])^2-ω^2);\n",
    "    end\n",
    "    G = c^2*G;\n",
    "    return G\n",
    "end\n",
    "\n",
    "function dgreen!(i,j,ω,P::photonic,dG=0.0)\n",
    "    # for now, positions pos1 and pos2 is going to be an integer index, which requires some input from the user\n",
    "    # for lower dimensional cases where G will be 1 or 2 components, just set other components to zero. That works.\n",
    "    spec_dim = P.N;\n",
    "    for counter = 1:spec_dim\n",
    "               dG += -2*ω*conj(P.modes[i,counter])*(P.modes[j,counter])/((P.freqs[counter])^2-ω^2)^2;\n",
    "    end\n",
    "    dG = c^2*dG;\n",
    "    return dG\n",
    "end\n",
    "\n",
    "# a version that has explicit position dependence\n",
    "function green2!(pos1,pos2,ω,P::photonic,G)\n",
    "    # for now, positions pos1 and pos2 is going to be an integer index, which requires some input from the user\n",
    "    # for lower dimensional cases where G will be 1 or 2 components, just set other components to zero. That works.\n",
    "    spec_dim = P.N;\n",
    "    space_dim = P.d;\n",
    "    for counter = 1:spec_dim\n",
    "        for ix = 1:space_dim\n",
    "            for iy = 1:space_dim\n",
    "               G[ix,iy] += conj(P.modes[pos1,counter,ix])*(P.modes[pos2,counter,iy])/((P.freqs[counter])^2-ω^2);\n",
    "            end\n",
    "        end\n",
    "    end\n",
    "    #G = c^2*G\n",
    "    return G\n",
    "end"
   ]
  },
  {
   "cell_type": "markdown",
   "metadata": {},
   "source": [
    "## Constructing the \"potential\" felt by the photon due to the atomic density "
   ]
  },
  {
   "cell_type": "markdown",
   "metadata": {},
   "source": [
    "This is used to solve the equation:\n",
    "\n",
    "\\begin{equation}\n",
    "\\Big|I_3 + \\lambda\\mathbf{G}_n(\\mathbf{r}_0,\\mathbf{r}_0,\\omega_n)\\Big| = 0 \n",
    "\\end{equation}\n",
    "\n",
    "where $\\lambda$ is the coupling coefficient seen below."
   ]
  },
  {
   "cell_type": "code",
   "execution_count": 5,
   "metadata": {},
   "outputs": [
    {
     "data": {
      "text/plain": [
       "photon_potential_A2 (generic function with 1 method)"
      ]
     },
     "execution_count": 5,
     "metadata": {},
     "output_type": "execute_result"
    }
   ],
   "source": [
    "function photon_potential_A2(str)\n",
    "   \n",
    "   λ = str*qe^2/me/ϵ0/c^2;\n",
    "    \n",
    "   return λ \n",
    "end"
   ]
  },
  {
   "cell_type": "markdown",
   "metadata": {},
   "source": [
    "## Constructing the self-consistent \"van der Waals\" or \"Casimir-Polder\" potential felt by an electron interacting with the electromagnetic field"
   ]
  },
  {
   "cell_type": "markdown",
   "metadata": {},
   "source": [
    "These functions calculate the \"non-perturbative\" interaction Hamiltonian (matrix) associated with virtual emission and absorption of photons by the electron. The interaction is calculated according to\n",
    "\n",
    "\\begin{equation}\n",
    "H_{\\mathrm{int}}=\\frac{q^2\\hbar}{2m^2\\epsilon_0}\\sum\\limits_{n=1}^{N_p}\\sum\\limits_{b=1}^{N_e}\\frac{|\\mathbf{F}_n(\\mathbf{r}_0)|^2 p\\psi_b\\psi_b^{\\dagger}p}{\\omega_n(E_1-E_b-\\omega_n)},\n",
    "\\end{equation}\n",
    "\n",
    "where the modes $\\mathbf{F}_n$ (and their frequencies $\\omega_n$) are stored in the photon class, while the vectors $\\psi_b$, and the \"energies\" $E_b$ are eigenvectors and eigenvalues corresponding to:\n",
    "\n",
    "\\begin{equation}\n",
    "\\left(H_0 + H_{\\mathrm{int}}\\right)\\psi = E\\psi.\n",
    "\\end{equation}\n",
    "\n",
    "In practice, this nonlinear problem is solved as a fixed point problem by taking the eigenvectors and eigenvalues in $H_{\\mathrm{int}}$ as specified by an initial guess. The momentum operator is given by $-i\\hbar\\nabla$, where $\\nabla$ is the discretized gradient operator."
   ]
  },
  {
   "cell_type": "code",
   "execution_count": null,
   "metadata": {},
   "outputs": [],
   "source": [
    "# for now keeping things one dimensional in p dot A = px*Ax\n",
    "\n",
    "function scf_potential2!(X,E::electronic,P::photonic,V_scf,str=1)\n",
    "   \n",
    "   N = E.N;\n",
    "   H0 = E.H0;\n",
    "   p = E.p;\n",
    "   # X = E.X; \n",
    "   \n",
    "   spec_dim = P.N;\n",
    "   vec_dim = P.d;\n",
    "   \n",
    "   for count_el = 1:N\n",
    "        for count_pt = 1:spec_dim\n",
    "           tmp_factor = (ħ/2/ϵ0/(P.freqs[count_pt]))*abs(P.modes[1,count_pt])^2/(X[N^2+1]-X[N^2+count_el]-P.freqs[count_pt]);\n",
    "           V_scf += str*tmp_factor*p*(conj.(X[1+(count_el-1)*N:(count_el)*N]').*X[1+(count_el-1)*N:(count_el)*N])*p;\n",
    "           V_scf = real.(V_scf); \n",
    "        end\n",
    "   end\n",
    "\n",
    "   return V_scf \n",
    "end\n",
    "\n",
    "\n",
    "function scf_iter_eigs2(X,E::electronic,P::photonic,V_scf,str)\n",
    "   \n",
    "   N = E.N;\n",
    "   H0 = E.H0;\n",
    "   p = E.p;\n",
    "  # X = E.X; \n",
    "   \n",
    "   spec_dim = P.N;\n",
    "   vec_dim = P.d;    \n",
    "        \n",
    "   V_scf = scf_potential2!(X,E,P,V_scf,str);\n",
    "   V_scf = (V_scf+V_scf')/2;\n",
    "   H = H0 + V_scf;\n",
    "   vecs_H,vals_H = eigvecs(H),eigvals(H);\n",
    "   tmp1 = reshape(vecs_H,(N^2,1));\n",
    "   tmp2 = reshape(vals_H,(N,1));\n",
    "   X = [tmp1\n",
    "        tmp2];\n",
    "    \n",
    "  # electron = electronic(N,H0,p,X)\n",
    "        \n",
    " return X\n",
    "end"
   ]
  },
  {
   "cell_type": "markdown",
   "metadata": {},
   "source": [
    "## Routines for finding the photon modes and frequencies in the presence of coupling, as well as routines for finding the electron wavefunctions and energies in the presence of coupling "
   ]
  },
  {
   "cell_type": "markdown",
   "metadata": {},
   "source": [
    "This program makes substantial use of routines for solving nonlinear equations: both nonlinear equations in a single variable, and nonlinear eigenvalue problems.In order to run the routines in this code, you must first Pkg.add(\"NLsolve\").\n",
    "\n",
    "Nonlinear equations in a single variable are solved with Newton's method. This is the default method.\n",
    "\n",
    "Nonlinear eigenproblems are solved with fixed point iteration, which is achieved with fixedpoint(). The default method is method = :anderson with mixing parameter $m=0$ and damping parameter $\\beta = 1$ (these parameters correspond to usual fixed-point iteration in which information about previous iterates is not explicitly used). A non-zero $m$ leads to a mixing of $m$ previous iterates in determining the next iterate.\n",
    "\n",
    "Note that in some cases, we found that residuals of the first equation for the matter can vary wildly between iterations. In which case, consider using a non-zero $m$, as well as a damping parameter smaller than $1$."
   ]
  },
  {
   "cell_type": "code",
   "execution_count": 15,
   "metadata": {},
   "outputs": [
    {
     "data": {
      "text/plain": [
       "f_el2! (generic function with 1 method)"
      ]
     },
     "execution_count": 15,
     "metadata": {},
     "output_type": "execute_result"
    }
   ],
   "source": [
    "function f_pt!(F,λ)#,str=1)\n",
    "  #  weight = photon_potential_A2(str);\n",
    "    F[1] = -weight*green!(1,1,λ[1],pt_cav,0.0)[1] - 1\n",
    "end\n",
    "\n",
    "function j_pt!(J,λ)#,str=1)\n",
    "  #  weight = photon_potential_A2(str);\n",
    "    J[1] = weight*dgreen!(1,1,λ[1],pt_cav,0.0)[1] \n",
    "end\n",
    "\n",
    "function construct_coupled_freqs(P::photonic,weight)\n",
    "    N = P.N;\n",
    "    freqs_int = zeros(N,1)\n",
    "    \n",
    "    for count = 1:N\n",
    "        if abs(P.modes[count])^2 >= (1.0e-2)*abs(P.modes[1])^2\n",
    "        sol_pt = nlsolve(f_pt!,[(count+0.02)*pi*c/L_cav])\n",
    "        freqs_int[count] = sol_pt.zero[1];\n",
    "        else\n",
    "        freqs_int[count] = P.freqs[count]\n",
    "        end\n",
    "    end\n",
    "    \n",
    "    freqs_int = reshape(freqs_int,(N));\n",
    "    freqs_int = sort(freqs_int);\n",
    "    \n",
    " return freqs_int\n",
    "end\n",
    "\n",
    "function mode(freq)\n",
    "    fieldmode = zeros(num_positions_cav);\n",
    "    for position = 1:num_positions_cav\n",
    "        fieldmode[position] = green2!(position,501,freq,pt_cav,[0.0])[1]; \n",
    "    end    \n",
    "    fieldmode = fieldmode / norm(fieldmode);\n",
    "   return fieldmode \n",
    "end\n",
    "\n",
    "function f_el2!(F,X)\n",
    "    X =  scf_iter_eigs2(X,E,P,zeros(N_el,N_el),str);\n",
    "   # print(\"$(X)\")\n",
    "    N = E.N;\n",
    "   # print(\"$(real(X[end-N+1:end])) \\n\")\n",
    "    for count = 1:size(X,1)\n",
    "        F[count] = X[count];#X[end-N+count] \n",
    "    end\n",
    "\n",
    "end"
   ]
  },
  {
   "cell_type": "markdown",
   "metadata": {},
   "source": [
    "## Routines for finding the changes in electron wavefunctions, energy, and electromagnetic fields in the presence of coupling "
   ]
  },
  {
   "cell_type": "markdown",
   "metadata": {},
   "source": [
    "The routines below find the ground state of a strongly-coupled light-matter system in the non-perturbative regime by a fundamentally different method, called mean-field theory. In this scheme, the problem reduces like before to a nonlinear eigen-equation, but of a different form. Here, it is\n",
    "\n",
    "\\begin{equation}\n",
    "\\left(-\\frac{1}{2}\\nabla^2 + U(\\mathbf{r}) - q\\mathbf{r}\\cdot\\langle \\mathbf{E} \\rangle \\right)\\psi = E\\psi.\n",
    "\\end{equation}\n",
    "\n",
    "where the expectation value of the quantized electric field is given by\n",
    "\n",
    "\\begin{equation}\n",
    "\\langle \\mathbf{E}(\\mathbf{R}) \\rangle = \\sum\\limits_n \\sqrt{\\frac{\\hbar\\omega_n}{2\\epsilon_0}}\\left(\\alpha_n \\mathbf{F}_n(\\mathbf{R}) + c.c \\right),\n",
    "\\end{equation}\n",
    "\n",
    "where $\\mathbf{R}$ is the center of charge of the system and the coefficients $\\alpha_n$ are given by\n",
    "\n",
    "\\begin{equation}\n",
    "\\alpha_n = q\\frac{1}{2\\epsilon_0\\hbar\\omega_n}\\int d^3x ~ \\mathbf{x}|\\psi(\\mathbf{x})|^2.\n",
    "\\end{equation}\n",
    "\n",
    "As a result of the equations for $\\psi$ featuring a term with $\\psi(\\mathbf{r})\\int d^3x ~\\mathbf{x}|\\psi(\\mathbf{x})|^2$, it is both nonlinear and non-local."
   ]
  },
  {
   "cell_type": "code",
   "execution_count": 33,
   "metadata": {},
   "outputs": [
    {
     "data": {
      "text/plain": [
       "f_el_meanfield! (generic function with 1 method)"
      ]
     },
     "execution_count": 33,
     "metadata": {},
     "output_type": "execute_result"
    }
   ],
   "source": [
    "function scf_potential_meanfield!(X,E::electronic_r,P::photonic,V_scf,str=1)\n",
    "   \n",
    "   # right now let's only worry about the ground state and see where that gets us \n",
    "    \n",
    "   N = E.N;\n",
    "   Nred = E.Nred; \n",
    "   H0 = E.H0;\n",
    "   r = E.r;\n",
    " #  X = E.X; \n",
    "   \n",
    "   spec_dim = P.N;\n",
    "   vec_dim = P.d;\n",
    "\n",
    "   Efield = 0;\n",
    "    \n",
    "   d_av = qe*conj.(X[1:N]'*r*X[1:N]);\n",
    "    \n",
    "   for count_pt = 1:spec_dim\n",
    "         Efield += 1/2/ϵ0*2*real(d_av)*abs(P.modes[1,count_pt])^2\n",
    "   end\n",
    "   \n",
    "   V_scf = - qe*r*Efield\n",
    " \n",
    "   return V_scf \n",
    "end\n",
    "\n",
    "\n",
    "function scf_iter_eigs_meanfield(X,E::electronic_r,P::photonic,V_scf,str=1)\n",
    "   \n",
    "   N = E.N;\n",
    "   Nred = E.Nred; \n",
    "   H0 = E.H0;\n",
    "   r = E.r;\n",
    "#   X = E.X; \n",
    "   \n",
    "   spec_dim = P.N;\n",
    "   vec_dim = P.d;    \n",
    "     \n",
    "   V_scf = scf_potential_meanfield!(X,E,P,V_scf,str);\n",
    "   V_scf = (V_scf+V_scf')/2;\n",
    "   H = H0 + str*V_scf;\n",
    "   H = sparse(H)\n",
    "   if issparse(H) == true \n",
    "        vals_H, vecs_H = eigs(H,which=:SM,nev=Nred)\n",
    "    else\n",
    "        vals_H,vecs_H = eigvals(H),eigvecs(H);\n",
    "   end\n",
    "   #print(\"$(size(H))\") \n",
    "   #print(\"$(size(vals_H))\")\n",
    "   #print(\"$(size(vecs_H))\") \n",
    "   tmp1 = reshape(vecs_H,(N*Nred,1));\n",
    "   tmp2 = reshape(vals_H,(Nred,1));\n",
    "   X = [tmp1\n",
    "        tmp2];\n",
    "    \n",
    "  # electron = electronic_r(N,H0,r,X)\n",
    "        \n",
    " return X\n",
    "end\n",
    "\n",
    "function scf_photon_meanfield(E::electronic_r,P::photonic)\n",
    "   \n",
    "   N = E.N;\n",
    "   Nred = E.Nred; \n",
    "   H0 = E.H0;\n",
    "   r = E.r;\n",
    "   X = E.X; \n",
    "   \n",
    "   d_av = qe*(X[1:N]'*r*X[1:N]);\n",
    "   alpha = d_av/sqrt(2*ϵ0*ħ)*conj.(P.modes./sqrt.(P.freqs)');\n",
    "  # field_tmp =  sqrt(ħ/2/ϵ0)*(sqrt.(P.freqs))(alpha.*(P.modes)+(conj.(alpha)).*conj.(P.modes))\n",
    "  # field = sum(field_tmp);\n",
    "    \n",
    " return alpha\n",
    "end\n",
    "\n",
    "function f_el_meanfield!(F,X)\n",
    "    N = E.N;\n",
    "    X =  scf_iter_eigs_meanfield(X,E,P,zeros(N,N),str);\n",
    "   # print(\"$(X)\")\n",
    "    Nred = E.Nred;\n",
    "   # print(\"$(real(X[end-Nred+1:end])) \\n\")\n",
    "    for count = 1:size(X,1)\n",
    "        F[count] = X[count];#X[end-N+count] \n",
    "    end\n",
    "\n",
    "end"
   ]
  },
  {
   "cell_type": "markdown",
   "metadata": {},
   "source": [
    "## Generating instances of electrons and photons"
   ]
  },
  {
   "cell_type": "markdown",
   "metadata": {},
   "source": [
    "### Electrons"
   ]
  },
  {
   "cell_type": "markdown",
   "metadata": {},
   "source": [
    "Here, we show a few examples of electrons classes that can be generated. It is common in contexts of condensed matter physics to consider electrons specified by a discrete Hamiltonian in a \"site\" or \"tight-binding\" representation, in which the basis used to construct the Hamiltonian is a basis of states highly localized at a set of discrete lattice sites. The off-diagonal elements $H_{ij}$ determine the probability that an electron on site $j$ tunnels to site $i$. The on-diagonal elements $H_{ii}$ sometimes called on-site energies determine the energies of electrons at different sites in the absence of any tunneling. The functions below construct tight-binding electron models in both velocity and position gauges. More examples of electrons, not associated with any functions (just \"manually built\") are shown in the demo file."
   ]
  },
  {
   "cell_type": "code",
   "execution_count": 9,
   "metadata": {},
   "outputs": [
    {
     "data": {
      "text/plain": [
       "construct_matter_r (generic function with 1 method)"
      ]
     },
     "execution_count": 9,
     "metadata": {},
     "output_type": "execute_result"
    }
   ],
   "source": [
    "function construct_matter(V,t,R,N)\n",
    "    \n",
    "    Hm = SymTridiagonal(V,t*ones(N-1));\n",
    "    p = -1*im/R*SymTridiagonal(zeros(N),ones(N-1))\n",
    "    \n",
    "    vals_Hm, vecs_Hm = eigvals(Hm), eigvecs(Hm);\n",
    "    tmp1 = reshape(vecs_Hm,(N^2,1));\n",
    "    tmp2 = reshape(vals_Hm,(N,1));\n",
    "    Xm = [tmp1\n",
    "        tmp2];\n",
    "    \n",
    "    electron = electronic(N,N,Hm,p,Xm);\n",
    "    return electron\n",
    "end\n",
    "\n",
    "function construct_matter_r(V,t,R,N)\n",
    "    \n",
    "    Hm = SymTridiagonal(V,t*ones(N-1));\n",
    "    positions = R*(-1:2/(N-1):1)\n",
    "    r = Diagonal(positions)\n",
    "    \n",
    "    vals_Hm, vecs_Hm = eigvals(Hm), eigvecs(Hm);\n",
    "    tmp1 = reshape(vecs_Hm,(N^2,1));\n",
    "    tmp2 = reshape(vals_Hm,(N,1));\n",
    "    Xm = [tmp1\n",
    "        tmp2];\n",
    "    \n",
    "    electron = electronic_r(N,N,Hm,r,Xm);\n",
    "    return electron\n",
    "end"
   ]
  },
  {
   "cell_type": "markdown",
   "metadata": {},
   "source": [
    "### Photons"
   ]
  },
  {
   "cell_type": "markdown",
   "metadata": {},
   "source": [
    "Below we manually construct examples of photon systems which are quite relevant in current research:\n",
    "1. Photons in  a metallic cavity which is long in an \"axial\" direction and small in two \"transverse\" directions.\n",
    "2. \"Photons\" (or electromagnetic fields) associated with collective oscillations of electrons in an electron gas (sometimes called plasmons). \n",
    "\n",
    "For more physics details, see for example: https://journals.aps.org/prb/abstract/10.1103/PhysRevB.80.245435"
   ]
  },
  {
   "cell_type": "markdown",
   "metadata": {},
   "source": [
    "#### Example 1"
   ]
  },
  {
   "cell_type": "code",
   "execution_count": 10,
   "metadata": {},
   "outputs": [
    {
     "data": {
      "text/plain": [
       "photonic(100, 1, [0.0227676, 0.0455351, 0.0683027, 0.0910703, 0.113838, 0.136605, 0.159373, 0.182141, 0.204908, 0.227676  …  2.07185, 2.09462, 2.11738, 2.14015, 2.16292, 2.18569, 2.20845, 2.23122, 2.25399, 2.27676], [5.44107e-5 6.66339e-21 … -5.44107e-5 5.34418e-20])"
      ]
     },
     "execution_count": 10,
     "metadata": {},
     "output_type": "execute_result"
    }
   ],
   "source": [
    "N_cav = 100;\n",
    "d_cav = 1; # spatial dimension of the cavity mode, corresponds to number of vector components used to describe mode \n",
    "L_cav = 18904.0; # 1 micron in atomic units\n",
    "S_cav = (10.0*nm)^2; #area of cavity\n",
    "\n",
    "emitter_pos = L_cav/2; # position where the emitter is located\n",
    "\n",
    "freqs_cav = pi*(1:N_cav)*c/L_cav;\n",
    "modes_cav = zeros(d_cav,N_cav);\n",
    "for counter = 1:N_cav\n",
    "   modes_cav[1,counter] = sqrt(2.0/L_cav/S_cav)*sin(freqs_cav[counter]*emitter_pos/c); # for 2d or 3d, want two extra lines specifying those components \n",
    "end\n",
    "\n",
    "pt_cav = photonic(N_cav,d_cav,freqs_cav,modes_cav)"
   ]
  },
  {
   "cell_type": "markdown",
   "metadata": {},
   "source": [
    "#### Example 2"
   ]
  },
  {
   "cell_type": "code",
   "execution_count": 11,
   "metadata": {},
   "outputs": [
    {
     "data": {
      "text/plain": [
       "photonic(10000, 3, [1.0e-7, 1.0e-7, 1.0e-7, 1.0e-7, 1.0e-7, 1.0e-7, 1.0e-7, 1.0e-7, 1.0e-7, 1.0e-7  …  0.000759935, 0.000759935, 0.000759935, 0.000759935, 0.000759935, 0.000759935, 0.000759935, 0.000759935, 0.000759935, 0.000759935], Complex{Float64}[0.0+0.0im 0.0+0.0im … 3.76236e-8+0.0im 3.85377e-8+0.0im; 0.0+0.0im 0.0+0.0im … -9.6601e-9+0.0im -4.86844e-9+0.0im; 0.0+0.0im 0.0+0.0im … 0.0+3.8844e-8im 0.0+3.8844e-8im])"
      ]
     },
     "execution_count": 11,
     "metadata": {},
     "output_type": "execute_result"
    }
   ],
   "source": [
    "# This would be an example of user input.\n",
    "\n",
    "# All of these parameters are used to specify the spectral properties of the plasma waves \n",
    "\n",
    "N_pl = 10000; # approximating a continuum of plasma waves \n",
    "d_pl = 3; # spatial dimension of the plasma wave, corresponds to number of vector components used to describe mode \n",
    "qmax_pl = 5.0/emitter_pos; # maximum spatial frequency of the plasma waves that I retain\n",
    "β_pl = 1.0e10; # proportionality constant used to define the frequencies of the plasmons. SI units.\n",
    "Nq_pl = 200; # sets number of spatial frequencies used to sample a continuum of spatial frequencies\n",
    "Nθ_pl = 50; # sets number of propagation angles used to sample a continuum of propagation angles\n",
    "qs_pl =  0:qmax_pl/Nq_pl:qmax_pl; #sets the spatial frequencies of the modes... what to do about angles??\n",
    "θs_pl = 0:2*pi/Nθ_pl:2*pi; #sets their polar angle of propagation in the 2D plane\n",
    "S_pl = (1.0/(qmax_pl/Nq_pl))^2;\n",
    "ω_pl(q) = β_pl*sqrt(q/a0)*rads_ev*ev_hartree+1.0e-7;\n",
    "index_pl(iq,iθ) = (Nθ_pl)*(iq-1) + iθ; \n",
    "\n",
    "# All of these parameters are used to specify the spectral properties of the plasma waves \n",
    "\n",
    "emitter_pos = 10*nm; # 10 nm away from the 2D plasma\n",
    "\n",
    "# Creating all of the  \n",
    "\n",
    "freqs_pl = zeros(N_pl);\n",
    "modes_pl = zeros(Complex{Float64},d_pl,N_pl);\n",
    "\n",
    "for iq = 1:Nq_pl\n",
    "    q_tmp = qs_pl[iq];\n",
    "    norm_tmp = sqrt(q_tmp/2.0/S_pl)*exp(-q_tmp*emitter_pos);\n",
    "    for iθ = 1:Nθ_pl\n",
    "       θ_tmp = θs_pl[iθ];\n",
    "       counter = index_pl(iq,iθ)\n",
    "       freqs_pl[counter] = ω_pl(q_tmp);\n",
    "       modes_pl[:,counter] = norm_tmp*[cos(θ_tmp),sin(θ_tmp),im]; \n",
    "    end\n",
    "end\n",
    "\n",
    "pt_pl = photonic(N_pl,d_pl,freqs_pl,modes_pl)"
   ]
  },
  {
   "cell_type": "markdown",
   "metadata": {},
   "source": [
    "## References"
   ]
  },
  {
   "cell_type": "markdown",
   "metadata": {},
   "source": [
    "1. Rivera, Nicholas, Johannes Flick, and Prineha Narang. arXiv preprint arXiv:1810.09595 (2018). [Original impetus for this work.]\n",
    "\n",
    "\n",
    "2. Flick, Johannes, et al. Proceedings of the National Academy of Sciences 112.50 (2015): 15285-15290. [Another impetus for this work].\n",
    "\n",
    "\n",
    "3. Walker, Homer F., and Peng Ni.  SIAM Journal on Numerical Analysis 49.4 (2011): 1715-1735. [Anderson acceleration and fixed point problems.]\n",
    "\n",
    "\n",
    "4. https://web.wpi.edu/Pubs/ETD/Available/etd-112409-140359/unrestricted/pni.pdf. [Fixed-point problems (and mixing) as used in quantum chemistry.]\n",
    "\n",
    "\n",
    "5. https://github.com/JuliaNLSolvers/NLsolve.jl. [NLsolve package and documentation.]"
   ]
  }
 ],
 "metadata": {
  "@webio": {
   "lastCommId": "ac632c3938c94b5eb617b6f58c9877c6",
   "lastKernelId": "013feae9-ae43-4f18-b1c9-431fab4542d8"
  },
  "kernelspec": {
   "display_name": "Julia 1.0.0",
   "language": "julia",
   "name": "julia-1.0"
  },
  "language_info": {
   "file_extension": ".jl",
   "mimetype": "application/julia",
   "name": "julia",
   "version": "1.0.0"
  }
 },
 "nbformat": 4,
 "nbformat_minor": 2
}
