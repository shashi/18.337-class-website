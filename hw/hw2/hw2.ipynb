{
 "cells": [
  {
   "cell_type": "markdown",
   "metadata": {},
   "source": [
    "# HW #2 Julia's Type System"
   ]
  },
  {
   "cell_type": "markdown",
   "metadata": {},
   "source": [
    "One of the big advantages of Julia for scientific computing is Julia's novel type system.  Historically, practitioners of scientific computing have been ignorant of type systems.  Conversely, experts on type systems have been historically ignorant of scientific computing. The result has been that before Julia, the benefits of a type system have been available in only limited cases and not widely understood.\n",
    "\n",
    "Along the way we'll learn elements of Julia's syntax that are not obvious to the newcomer but are really useful.\n",
    "We hope by the end of this homework, the uses of all sorts of \"dots\"  `.`, `...`,`:`,`::`  will be clear.\n",
    "(One might refer to the <a href=\"https://docs.julialang.org/en/v1/base/punctuation/\"> Punctuation doc </a>\n",
    "which can be really helpful.)  Dots in a language are great once you understand them as they use very little \"ink\" so they don't distract, but if they are mysterious, then the language just seems unreadable.\n",
    "\n",
    "The dot `.` is used for decimal points, field names, and broadcast. <br>\n",
    "The triple dots `...` is used for slurping and splatting. (Love those names.) <br>\n",
    "The `:` is used for ranges, in indexing, and to create a symbol (offically known as a quoted expression). <br>\n",
    "The `::` is used for type annotation.\n",
    "\n",
    "\n",
    "\n",
    "Jupyter Tip: Esc + A and Esc + B (insert cell above/below -- teach your fingers this and you'll thank your fingers)\n",
    "\n",
    "**Warning**: Structs can't be redefined.  You'll have to reload the kernel and re-execute."
   ]
  },
  {
   "cell_type": "markdown",
   "metadata": {},
   "source": [
    "# Built in types in Julia"
   ]
  },
  {
   "cell_type": "markdown",
   "metadata": {},
   "source": [
    "Some useful commands are <a  href=\"https://docs.julialang.org/en/v1/base/base/#Core.typeof\"> typeof </a>,\n",
    "<a href=\"https://docs.julialang.org/en/v1/base/base/#Core.isa\"> isa </a>, \n",
    "<a href=\"https://docs.julialang.org/en/v1/base/io-network/#Base.dump\"> dump </a>, \n",
    "and <a href=\"https://docs.julialang.org/en/v1/base/numbers/#Base.bitstring\"> bitstring </a>."
   ]
  },
  {
   "cell_type": "markdown",
   "metadata": {},
   "source": [
    "1. Create a \"vector\"  `v` of type `Array{Int64,1}` which has at least two positive and two negative integers."
   ]
  },
  {
   "cell_type": "code",
   "execution_count": null,
   "metadata": {},
   "outputs": [],
   "source": [
    "# v = [         (Try with and without commas, which one is right?)"
   ]
  },
  {
   "cell_type": "markdown",
   "metadata": {},
   "source": [
    "2. Run the `bitstring` command on each element of v and interpret with precision the bits that you see."
   ]
  },
  {
   "cell_type": "code",
   "execution_count": null,
   "metadata": {},
   "outputs": [],
   "source": [
    "# bitstring.(v)   # Remember the `.` (dot), pronounced broadcast, applies the function to every element."
   ]
  },
  {
   "cell_type": "markdown",
   "metadata": {},
   "source": [
    "3. Create a \"vector\" `v` of type `Array{Float64,1}` which has at least two positive and two negative values. Including a few that are not exactly mathematical integers."
   ]
  },
  {
   "cell_type": "code",
   "execution_count": null,
   "metadata": {},
   "outputs": [],
   "source": [
    "# v = [         "
   ]
  },
  {
   "cell_type": "markdown",
   "metadata": {},
   "source": [
    "4. Interpret the bitstring for floats. Please read and digest the wikipedia article on the <a href=\"https://en.wikipedia.org/wiki/Double-precision_floating-point_format#IEEE_754_double-precision_binary_floating-point_format:_binary64\">IEEE 754 double-precision binary floating-point format </a>."
   ]
  },
  {
   "cell_type": "code",
   "execution_count": null,
   "metadata": {},
   "outputs": [],
   "source": [
    "#v = [  "
   ]
  },
  {
   "cell_type": "code",
   "execution_count": null,
   "metadata": {},
   "outputs": [],
   "source": [
    "# bitstring.(v)"
   ]
  },
  {
   "cell_type": "markdown",
   "metadata": {},
   "source": [
    "5. The machine learning world is more interested in approximate than exact answers has motivated increased use of half precision (float16, binary16).  This can save time and memory. Explain the format of half precision for a few numbers such as 1.0.  <a href=\"https://en.wikipedia.org/wiki/Half-precision_floating-point_format#IEEE_754_half-precision_binary_floating-point_format:_binary16\"> Wikipedia article on half precision. </a> "
   ]
  },
  {
   "cell_type": "code",
   "execution_count": null,
   "metadata": {},
   "outputs": [],
   "source": [
    "bitstring(Float16(1.0))"
   ]
  },
  {
   "cell_type": "markdown",
   "metadata": {},
   "source": [
    "# Composite Types"
   ]
  },
  {
   "cell_type": "markdown",
   "metadata": {},
   "source": [
    "Let's create a function that takes an Int as input and returns a vector containing an Int64, Float64, Float16, and String."
   ]
  },
  {
   "cell_type": "code",
   "execution_count": null,
   "metadata": {},
   "outputs": [],
   "source": [
    "function vector_of_types(n::Int) # Here :: says the input is defined for Int's\n",
    "    [Int64(n), Float64(n), Float16(n), string(n)]\n",
    "end"
   ]
  },
  {
   "cell_type": "code",
   "execution_count": null,
   "metadata": {},
   "outputs": [],
   "source": [
    "vector_of_types(17)"
   ]
  },
  {
   "cell_type": "markdown",
   "metadata": {},
   "source": [
    "Notice this has type `Array{Any,1}`"
   ]
  },
  {
   "cell_type": "code",
   "execution_count": null,
   "metadata": {},
   "outputs": [],
   "source": [
    "typeof(vector_of_types(17))"
   ]
  },
  {
   "cell_type": "markdown",
   "metadata": {},
   "source": [
    "Let's now create a composite type"
   ]
  },
  {
   "cell_type": "code",
   "execution_count": null,
   "metadata": {},
   "outputs": [],
   "source": [
    "struct FourTypes\n",
    "    n::Int64\n",
    "    x::Float64\n",
    "    y::Float16\n",
    "    z::String\n",
    "end"
   ]
  },
  {
   "cell_type": "markdown",
   "metadata": {},
   "source": [
    "Create an `f` of this type using a <a href=\"https://docs.julialang.org/en/v1/manual/constructors/#\"> constructor. </a>"
   ]
  },
  {
   "cell_type": "code",
   "execution_count": null,
   "metadata": {},
   "outputs": [],
   "source": [
    "f = FourTypes(17,17.0,Float16(17),\"17\")  "
   ]
  },
  {
   "cell_type": "markdown",
   "metadata": {},
   "source": [
    "6. Why is the following properly an error?"
   ]
  },
  {
   "cell_type": "code",
   "execution_count": null,
   "metadata": {},
   "outputs": [],
   "source": [
    "f = FourTypes(17,17,17,17)"
   ]
  },
  {
   "cell_type": "markdown",
   "metadata": {},
   "source": [
    "I love the <a href=\"https://docs.julialang.org/en/v0.6.1/manual/faq/#The-two-uses-of-the-...-operator:-slurping-and-splatting-1\"> splat </a> operator.  Here's an example."
   ]
  },
  {
   "cell_type": "code",
   "execution_count": null,
   "metadata": {},
   "outputs": [],
   "source": [
    "f = FourTypes(vector_of_types(17)...) "
   ]
  },
  {
   "cell_type": "code",
   "execution_count": null,
   "metadata": {},
   "outputs": [],
   "source": [
    "dump(f)"
   ]
  },
  {
   "cell_type": "code",
   "execution_count": null,
   "metadata": {},
   "outputs": [],
   "source": [
    "typeof(f)"
   ]
  },
  {
   "cell_type": "markdown",
   "metadata": {},
   "source": [
    "6. Create a new type called `FourVectorTypes` with field `vn`,`vx`,`vy`,`vz` which contains respectively vectors of int64s, float64s, float16s, strings"
   ]
  },
  {
   "cell_type": "code",
   "execution_count": null,
   "metadata": {},
   "outputs": [],
   "source": []
  },
  {
   "cell_type": "code",
   "execution_count": null,
   "metadata": {},
   "outputs": [],
   "source": [
    "## Test your type\n",
    "# FourVectorTypes([1,2,3],[1.0,2,3],Float16.([1,2,3]),[\"1\",\"2\",\"3\",\"4\"])"
   ]
  },
  {
   "cell_type": "markdown",
   "metadata": {},
   "source": [
    "7. play with <a href=\"https://docs.julialang.org/en/v1/base/base/#Base.isbits\"> isbits </a> and\n",
    "<a href=\"https://docs.julialang.org/en/v1/base/base/#Base.sizeof-Tuple{Type}\" sizeof </a> and tell us what\n",
    "you learn for some built-in types and composite types.  Try a type with an Int64 and a Float32.  Any surprise?"
   ]
  },
  {
   "cell_type": "markdown",
   "metadata": {},
   "source": [
    "# ... but Julia seems to be doing something more interesting or what are all those curly braces and that crazy letter \"T\" we keep seeing?"
   ]
  },
  {
   "cell_type": "code",
   "execution_count": null,
   "metadata": {},
   "outputs": [],
   "source": [
    "struct MyTypeAndMe{T}\n",
    "    n::T\n",
    "end"
   ]
  },
  {
   "cell_type": "code",
   "execution_count": null,
   "metadata": {},
   "outputs": [],
   "source": [
    "MyTypeAndMe(17)"
   ]
  },
  {
   "cell_type": "code",
   "execution_count": null,
   "metadata": {},
   "outputs": [],
   "source": [
    "typeof(MyTypeAndMe(17))"
   ]
  },
  {
   "cell_type": "code",
   "execution_count": null,
   "metadata": {},
   "outputs": [],
   "source": [
    "typeof(MyTypeAndMe(17.0))"
   ]
  },
  {
   "cell_type": "code",
   "execution_count": null,
   "metadata": {},
   "outputs": [],
   "source": [
    "typeof(MyTypeAndMe(Float16(17)))"
   ]
  },
  {
   "cell_type": "code",
   "execution_count": null,
   "metadata": {},
   "outputs": [],
   "source": [
    "typeof(MyTypeAndMe(\"17\"))"
   ]
  },
  {
   "cell_type": "markdown",
   "metadata": {},
   "source": [
    "One can read the doc on <a href=\"https://docs.julialang.org/en/v1/manual/types/#Parametric-Types-1\"> parametric types, </a> but warning: you may find it a little confusing. (I did!)  <br>\n",
    "\n",
    "Maybe best to understand that `NumAndType(x)` creates an object whose type is `NumAndType(`typeof(x)`)` and whose \"n field\" is `x`."
   ]
  },
  {
   "cell_type": "code",
   "execution_count": null,
   "metadata": {},
   "outputs": [],
   "source": [
    "s = MyTypeAndMe(42)"
   ]
  },
  {
   "cell_type": "code",
   "execution_count": null,
   "metadata": {},
   "outputs": [],
   "source": [
    "s.n"
   ]
  },
  {
   "cell_type": "code",
   "execution_count": null,
   "metadata": {},
   "outputs": [],
   "source": [
    "dump(s)"
   ]
  },
  {
   "cell_type": "code",
   "execution_count": null,
   "metadata": {},
   "outputs": [],
   "source": [
    "typeof(s)"
   ]
  },
  {
   "cell_type": "markdown",
   "metadata": {},
   "source": [
    "8.  Explain s.n, dump(s), and typeof(s) for the following."
   ]
  },
  {
   "cell_type": "code",
   "execution_count": null,
   "metadata": {},
   "outputs": [],
   "source": [
    "s = MyTypeAndMe(rand(5))"
   ]
  },
  {
   "cell_type": "code",
   "execution_count": null,
   "metadata": {},
   "outputs": [],
   "source": [
    "s.n"
   ]
  },
  {
   "cell_type": "code",
   "execution_count": null,
   "metadata": {},
   "outputs": [],
   "source": [
    "dump(s)"
   ]
  },
  {
   "cell_type": "code",
   "execution_count": null,
   "metadata": {},
   "outputs": [],
   "source": [
    "typeof(s)"
   ]
  },
  {
   "cell_type": "markdown",
   "metadata": {},
   "source": [
    "# A Use Case for Parameterized Types"
   ]
  },
  {
   "cell_type": "markdown",
   "metadata": {},
   "source": [
    "In mathematics there is the concept of field extensions such as $\\mathbb{Q}[\\sqrt{2}]$ which means arithmetic operations with $a+b\\sqrt{2}$ where $a$ an $b$ are rational. One can also talk about $\\mathbb{Z}[\\sqrt{2}]$ where\n",
    "one extends the integers allowing only plus, minus, and multiply perhaps. Let's make this general in Julia:"
   ]
  },
  {
   "cell_type": "code",
   "execution_count": null,
   "metadata": {},
   "outputs": [],
   "source": [
    "struct ExtendSqrt2{T}\n",
    "    a::T\n",
    "    b::T\n",
    "end"
   ]
  },
  {
   "cell_type": "code",
   "execution_count": null,
   "metadata": {},
   "outputs": [],
   "source": [
    "Base.:show(io::IO,  x::ExtendSqrt2) = print(io, \"$(x.a)+$(x.b)√2\")"
   ]
  },
  {
   "cell_type": "code",
   "execution_count": null,
   "metadata": {},
   "outputs": [],
   "source": [
    "ExtendSqrt2(3,4)"
   ]
  },
  {
   "cell_type": "code",
   "execution_count": null,
   "metadata": {},
   "outputs": [],
   "source": [
    "typeof(ExtendSqrt2(3,4))"
   ]
  },
  {
   "cell_type": "code",
   "execution_count": null,
   "metadata": {},
   "outputs": [],
   "source": [
    "ExtendSqrt2(3.5,4.1)"
   ]
  },
  {
   "cell_type": "code",
   "execution_count": null,
   "metadata": {},
   "outputs": [],
   "source": [
    "typeof(ExtendSqrt2(3.5,4.1))"
   ]
  },
  {
   "cell_type": "code",
   "execution_count": null,
   "metadata": {},
   "outputs": [],
   "source": [
    "ExtendSqrt2(1//3,1//2)"
   ]
  },
  {
   "cell_type": "code",
   "execution_count": null,
   "metadata": {},
   "outputs": [],
   "source": [
    "typeof(ExtendSqrt2(1//3,1//2))"
   ]
  },
  {
   "cell_type": "markdown",
   "metadata": {},
   "source": [
    "9. Extend +,-,* by defining Base.:+ etc. Demonstrate that these work.   <br>\n",
    "\n",
    "10. Create a matrix whose elements are ExtendSqrt2 and an ExtendSqrt2 consisting of two matrices.  What are the two different types?  What are the operations?"
   ]
  },
  {
   "cell_type": "code",
   "execution_count": null,
   "metadata": {},
   "outputs": [],
   "source": [
    "Base.:*(x::ExtendSqrt2,y::ExtendSqrt2)=ExtendSqrt2(x.a*y.a+2x.b*y.b,x.a*y.b+y.a*x.b)\n",
    "Base.:+(x::ExtendSqrt2,y::ExtendSqrt2)=ExtendSqrt2(x.a+y.a,x.b+y.b)"
   ]
  },
  {
   "cell_type": "code",
   "execution_count": null,
   "metadata": {},
   "outputs": [],
   "source": [
    "[ExtendSqrt2(i,j) for i=1:3,j=1:3]^2"
   ]
  },
  {
   "cell_type": "markdown",
   "metadata": {},
   "source": [
    "# Another Julia type is a symbol"
   ]
  },
  {
   "cell_type": "code",
   "execution_count": null,
   "metadata": {},
   "outputs": [],
   "source": [
    "s = :abc"
   ]
  },
  {
   "cell_type": "code",
   "execution_count": null,
   "metadata": {},
   "outputs": [],
   "source": [
    "typeof(s)"
   ]
  },
  {
   "cell_type": "code",
   "execution_count": null,
   "metadata": {},
   "outputs": [],
   "source": [
    "MeAndMyType(:abc)"
   ]
  },
  {
   "cell_type": "markdown",
   "metadata": {},
   "source": [
    "# Creatively using these ideas."
   ]
  },
  {
   "cell_type": "markdown",
   "metadata": {},
   "source": [
    "Today's scientific computing and machine learning needs computational graphs for automatic differentiation, optimization and so many more uses. See if this makes sense to you.  We will get back to this later in the semester."
   ]
  },
  {
   "cell_type": "code",
   "execution_count": null,
   "metadata": {},
   "outputs": [],
   "source": [
    "abstract type HW2 end # This creates an abstract type called HW2 so we don't mix things up"
   ]
  },
  {
   "cell_type": "markdown",
   "metadata": {},
   "source": [
    "If you wish to read about <a href=https://docs.julialang.org/en/v1/manual/types/#Abstract-Types-1> Abstract Types </a> .  Don't worry if this doesn't fully make sense yet."
   ]
  },
  {
   "cell_type": "code",
   "execution_count": null,
   "metadata": {},
   "outputs": [],
   "source": []
  },
  {
   "cell_type": "code",
   "execution_count": null,
   "metadata": {},
   "outputs": [],
   "source": [
    "struct Plus{A, B} <: HW2\n",
    "    a::A\n",
    "    b::B\n",
    "end"
   ]
  },
  {
   "cell_type": "code",
   "execution_count": null,
   "metadata": {},
   "outputs": [],
   "source": [
    "Base.:+(x::Symbol, y::Symbol) = Plus(x,y)\n",
    "Base.:+(x::HW2, y::Symbol) = Plus(x,y)"
   ]
  },
  {
   "cell_type": "code",
   "execution_count": null,
   "metadata": {},
   "outputs": [],
   "source": [
    ":a + :b"
   ]
  },
  {
   "cell_type": "code",
   "execution_count": null,
   "metadata": {},
   "outputs": [],
   "source": [
    ":a + :b + :c"
   ]
  },
  {
   "cell_type": "code",
   "execution_count": null,
   "metadata": {},
   "outputs": [],
   "source": [
    ":a + :b + :c + :d"
   ]
  },
  {
   "cell_type": "markdown",
   "metadata": {},
   "source": [
    "11. Explain the types and values of the above summations of symbols. Explain how this could be used in a computational graph."
   ]
  },
  {
   "cell_type": "markdown",
   "metadata": {},
   "source": [
    "# A mini-symbolic calculator"
   ]
  },
  {
   "cell_type": "markdown",
   "metadata": {},
   "source": [
    "We are not asking you to anything here but to show you how one can begin building a full symbolic calculator with just a screenful of lines in Julia. By the end of the course you will learn how it all works."
   ]
  },
  {
   "cell_type": "code",
   "execution_count": null,
   "metadata": {},
   "outputs": [],
   "source": [
    "abstract type Op end\n",
    "\n",
    "struct Add{A, B}  <: Op\n",
    "    a::A\n",
    "    b::B\n",
    "end\n",
    "\n",
    "struct Subtract{A, B}  <: Op\n",
    "    a::A\n",
    "    b::B\n",
    "end\n",
    "\n",
    "struct Max{A, B}  <: Op\n",
    "    a::A\n",
    "    b::B\n",
    "end\n",
    "\n",
    "struct Mul{A,B}  <: Op\n",
    "    a::A\n",
    "    b::B\n",
    "end\n",
    "\n",
    "struct LazyVar <: Op\n",
    "   s :: Symbol\n",
    "end\n",
    "\n",
    "Base.:show(io::IO, format::MIME\"text/html\", x::LazyVar) = print(io,\"<b>\", x.s, \"</b>\")\n",
    "\n",
    "macro var(v)    \n",
    "   esc(:($v = $(LazyVar(v))))\n",
    "end\n",
    "\n",
    "function evaluate(x::Add; vals...) \n",
    "      evaluate(x.a; vals...) + evaluate(x.b; vals...)\n",
    "end\n",
    "Base.:+(x::Op, y::Op) = Add(x,y)\n",
    "Base.:+(x::Op, y::Number) = Add(x,y)\n",
    "Base.:+(x::Number, y::Op) = Add(x,y)\n",
    "\n",
    "\n",
    "#sub\n",
    "function evaluate(x::Subtract; vals...) \n",
    "      evaluate(x.a; vals...) - evaluate(x.b; vals...)\n",
    "end\n",
    "Base.:-(x::Op, y::Op) = Subtract(x,y)\n",
    "\n",
    "#max\n",
    "function evaluate(x::Max; vals...) \n",
    "     max(evaluate(x.a; vals...), evaluate(x.b; vals...))\n",
    "end\n",
    "Base.:max(x::Op, y::Op) = Max(x,y)\n",
    "   \n",
    "\n",
    "#mul\n",
    "function evaluate(x::Mul; vals...) \n",
    "      evaluate(x.a; vals...) * evaluate(x.b; vals...)\n",
    "end\n",
    "Base.:*(x::Op, y::Op ) = Mul(x,y)\n",
    "Base.:*(x::Number,y::Op) = Mul(x,y)\n",
    "Base.:*(x::Op,y::Number) = Mul(x,y)\n",
    "\n",
    "evaluate(x::LazyVar; vals...) = vals.data[x.s]  \n",
    "evaluate(x; vals...) = x"
   ]
  },
  {
   "cell_type": "code",
   "execution_count": null,
   "metadata": {},
   "outputs": [],
   "source": [
    "@var x"
   ]
  },
  {
   "cell_type": "code",
   "execution_count": null,
   "metadata": {},
   "outputs": [],
   "source": [
    "@var y"
   ]
  },
  {
   "cell_type": "code",
   "execution_count": null,
   "metadata": {},
   "outputs": [],
   "source": [
    "u = x + 3*y\n",
    "v = max(u,10*y)\n",
    "w = y*x*u"
   ]
  },
  {
   "cell_type": "code",
   "execution_count": null,
   "metadata": {},
   "outputs": [],
   "source": [
    "for t∈[u,v,w]\n",
    " println(evaluate(t,x=5,y=4))\n",
    "end"
   ]
  },
  {
   "cell_type": "code",
   "execution_count": null,
   "metadata": {},
   "outputs": [],
   "source": []
  }
 ],
 "metadata": {
  "kernelspec": {
   "display_name": "Julia 1.0.0",
   "language": "julia",
   "name": "julia-1.0"
  },
  "language_info": {
   "file_extension": ".jl",
   "mimetype": "application/julia",
   "name": "julia",
   "version": "1.0.0"
  }
 },
 "nbformat": 4,
 "nbformat_minor": 2
}
